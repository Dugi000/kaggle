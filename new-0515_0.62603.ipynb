{
 "cells": [
  {
   "cell_type": "markdown",
   "id": "87926aa2",
   "metadata": {
    "_cell_guid": "ea90bdd7-8e46-4ecb-9ec3-749b78076727",
    "_uuid": "caf04c51-cfee-46e8-9120-992549e7b47a",
    "collapsed": false,
    "jupyter": {
     "outputs_hidden": false
    },
    "papermill": {
     "duration": 0.005723,
     "end_time": "2025-06-04T13:06:49.395864",
     "exception": false,
     "start_time": "2025-06-04T13:06:49.390141",
     "status": "completed"
    },
    "tags": []
   },
   "source": [
    "# 라이브러리"
   ]
  },
  {
   "cell_type": "code",
   "execution_count": 1,
   "id": "92898461",
   "metadata": {
    "_cell_guid": "ef13d98c-0bd8-4ca6-9736-06244bd7dcf3",
    "_uuid": "5df079f3-c46b-4593-a656-4038f25387b5",
    "collapsed": false,
    "execution": {
     "iopub.execute_input": "2025-06-04T13:06:49.406998Z",
     "iopub.status.busy": "2025-06-04T13:06:49.406580Z",
     "iopub.status.idle": "2025-06-04T13:06:59.692077Z",
     "shell.execute_reply": "2025-06-04T13:06:59.690814Z"
    },
    "jupyter": {
     "outputs_hidden": false
    },
    "papermill": {
     "duration": 10.293225,
     "end_time": "2025-06-04T13:06:59.693907",
     "exception": false,
     "start_time": "2025-06-04T13:06:49.400682",
     "status": "completed"
    },
    "tags": []
   },
   "outputs": [
    {
     "name": "stdout",
     "output_type": "stream",
     "text": [
      "Collecting scikit-learn==1.3.2\r\n",
      "  Downloading scikit_learn-1.3.2-cp311-cp311-manylinux_2_17_x86_64.manylinux2014_x86_64.whl.metadata (11 kB)\r\n",
      "Collecting imbalanced-learn==0.11.0\r\n",
      "  Downloading imbalanced_learn-0.11.0-py3-none-any.whl.metadata (8.3 kB)\r\n",
      "Requirement already satisfied: numpy<2.0,>=1.17.3 in /usr/local/lib/python3.11/dist-packages (from scikit-learn==1.3.2) (1.26.4)\r\n",
      "Requirement already satisfied: scipy>=1.5.0 in /usr/local/lib/python3.11/dist-packages (from scikit-learn==1.3.2) (1.15.2)\r\n",
      "Requirement already satisfied: joblib>=1.1.1 in /usr/local/lib/python3.11/dist-packages (from scikit-learn==1.3.2) (1.5.0)\r\n",
      "Requirement already satisfied: threadpoolctl>=2.0.0 in /usr/local/lib/python3.11/dist-packages (from scikit-learn==1.3.2) (3.6.0)\r\n",
      "Requirement already satisfied: mkl_fft in /usr/local/lib/python3.11/dist-packages (from numpy<2.0,>=1.17.3->scikit-learn==1.3.2) (1.3.8)\r\n",
      "Requirement already satisfied: mkl_random in /usr/local/lib/python3.11/dist-packages (from numpy<2.0,>=1.17.3->scikit-learn==1.3.2) (1.2.4)\r\n",
      "Requirement already satisfied: mkl_umath in /usr/local/lib/python3.11/dist-packages (from numpy<2.0,>=1.17.3->scikit-learn==1.3.2) (0.1.1)\r\n",
      "Requirement already satisfied: mkl in /usr/local/lib/python3.11/dist-packages (from numpy<2.0,>=1.17.3->scikit-learn==1.3.2) (2025.1.0)\r\n",
      "Requirement already satisfied: tbb4py in /usr/local/lib/python3.11/dist-packages (from numpy<2.0,>=1.17.3->scikit-learn==1.3.2) (2022.1.0)\r\n",
      "Requirement already satisfied: mkl-service in /usr/local/lib/python3.11/dist-packages (from numpy<2.0,>=1.17.3->scikit-learn==1.3.2) (2.4.1)\r\n",
      "Requirement already satisfied: intel-openmp<2026,>=2024 in /usr/local/lib/python3.11/dist-packages (from mkl->numpy<2.0,>=1.17.3->scikit-learn==1.3.2) (2024.2.0)\r\n",
      "Requirement already satisfied: tbb==2022.* in /usr/local/lib/python3.11/dist-packages (from mkl->numpy<2.0,>=1.17.3->scikit-learn==1.3.2) (2022.1.0)\r\n",
      "Requirement already satisfied: tcmlib==1.* in /usr/local/lib/python3.11/dist-packages (from tbb==2022.*->mkl->numpy<2.0,>=1.17.3->scikit-learn==1.3.2) (1.3.0)\r\n",
      "Requirement already satisfied: intel-cmplr-lib-rt in /usr/local/lib/python3.11/dist-packages (from mkl_umath->numpy<2.0,>=1.17.3->scikit-learn==1.3.2) (2024.2.0)\r\n",
      "Requirement already satisfied: intel-cmplr-lib-ur==2024.2.0 in /usr/local/lib/python3.11/dist-packages (from intel-openmp<2026,>=2024->mkl->numpy<2.0,>=1.17.3->scikit-learn==1.3.2) (2024.2.0)\r\n",
      "Downloading scikit_learn-1.3.2-cp311-cp311-manylinux_2_17_x86_64.manylinux2014_x86_64.whl (10.9 MB)\r\n",
      "\u001b[2K   \u001b[90m━━━━━━━━━━━━━━━━━━━━━━━━━━━━━━━━━━━━━━━━\u001b[0m \u001b[32m10.9/10.9 MB\u001b[0m \u001b[31m80.2 MB/s\u001b[0m eta \u001b[36m0:00:00\u001b[0m\r\n",
      "\u001b[?25hDownloading imbalanced_learn-0.11.0-py3-none-any.whl (235 kB)\r\n",
      "\u001b[2K   \u001b[90m━━━━━━━━━━━━━━━━━━━━━━━━━━━━━━━━━━━━━━━━\u001b[0m \u001b[32m235.6/235.6 kB\u001b[0m \u001b[31m11.4 MB/s\u001b[0m eta \u001b[36m0:00:00\u001b[0m\r\n",
      "\u001b[?25hInstalling collected packages: scikit-learn, imbalanced-learn\r\n",
      "  Attempting uninstall: scikit-learn\r\n",
      "    Found existing installation: scikit-learn 1.2.2\r\n",
      "    Uninstalling scikit-learn-1.2.2:\r\n",
      "      Successfully uninstalled scikit-learn-1.2.2\r\n",
      "  Attempting uninstall: imbalanced-learn\r\n",
      "    Found existing installation: imbalanced-learn 0.13.0\r\n",
      "    Uninstalling imbalanced-learn-0.13.0:\r\n",
      "      Successfully uninstalled imbalanced-learn-0.13.0\r\n",
      "\u001b[31mERROR: pip's dependency resolver does not currently take into account all the packages that are installed. This behaviour is the source of the following dependency conflicts.\r\n",
      "cesium 0.12.4 requires numpy<3.0,>=2.0, but you have numpy 1.26.4 which is incompatible.\u001b[0m\u001b[31m\r\n",
      "\u001b[0mSuccessfully installed imbalanced-learn-0.11.0 scikit-learn-1.3.2\r\n"
     ]
    }
   ],
   "source": [
    "!pip install -U scikit-learn==1.3.2 imbalanced-learn==0.11.0"
   ]
  },
  {
   "cell_type": "code",
   "execution_count": 2,
   "id": "6e60d7b3",
   "metadata": {
    "_cell_guid": "bd0bcf9a-4d6b-4ad1-8cfd-24e4a74fc57d",
    "_uuid": "8bc90a16-82c7-4344-89ad-f35f2bf3032b",
    "collapsed": false,
    "execution": {
     "iopub.execute_input": "2025-06-04T13:06:59.706899Z",
     "iopub.status.busy": "2025-06-04T13:06:59.706446Z",
     "iopub.status.idle": "2025-06-04T13:07:17.947603Z",
     "shell.execute_reply": "2025-06-04T13:07:17.946583Z"
    },
    "jupyter": {
     "outputs_hidden": false
    },
    "papermill": {
     "duration": 18.24964,
     "end_time": "2025-06-04T13:07:17.949276",
     "exception": false,
     "start_time": "2025-06-04T13:06:59.699636",
     "status": "completed"
    },
    "tags": []
   },
   "outputs": [],
   "source": [
    "# 기본 라이브러리\n",
    "import numpy as np\n",
    "import pandas as pd\n",
    "import matplotlib.pyplot as plt\n",
    "import seaborn as sns\n",
    "import shap\n",
    "import matplotlib\n",
    "import warnings\n",
    "\n",
    "warnings.filterwarnings(action='ignore')\n",
    "\n",
    "# 전처리 및 유틸\n",
    "from sklearn.preprocessing import StandardScaler, MinMaxScaler, LabelEncoder\n",
    "from sklearn.utils.class_weight import compute_class_weight\n",
    "from sklearn.pipeline import Pipeline\n",
    "from imblearn.pipeline import Pipeline\n",
    "from sklearn.base import clone\n",
    "from scipy.stats import mode\n",
    "from imblearn.over_sampling import SMOTE\n",
    "from sklearn.decomposition import PCA\n",
    "from sklearn.manifold import TSNE\n",
    "from sklearn.inspection import permutation_importance\n",
    "from tqdm.notebook import tqdm\n",
    "from sklearn.svm import SVC\n",
    "from imblearn.combine import SMOTETomek\n",
    "from sklearn.preprocessing import StandardScaler\n",
    "from sklearn.model_selection import GridSearchCV\n",
    "from sklearn.manifold import TSNE\n",
    "from sklearn.cluster import KMeans\n",
    "\n",
    "# 모델 평가 / 지표\n",
    "from sklearn.metrics import accuracy_score, f1_score, make_scorer, classification_report, confusion_matrix\n",
    "from sklearn.metrics import roc_auc_score, precision_recall_curve, auc\n",
    "\n",
    "# 데이터 분할 및 교차검증\n",
    "from sklearn.model_selection import train_test_split, StratifiedKFold, RandomizedSearchCV, cross_val_score\n",
    "\n",
    "# 분류 모델\n",
    "from sklearn.ensemble import RandomForestClassifier, GradientBoostingClassifier, VotingClassifier, StackingClassifier, BaggingClassifier\n",
    "from xgboost import XGBClassifier\n",
    "from lightgbm import LGBMClassifier\n",
    "from catboost import CatBoostClassifier\n",
    "from sklearn.linear_model import LogisticRegression"
   ]
  },
  {
   "cell_type": "markdown",
   "id": "7dbf9aa9",
   "metadata": {
    "_cell_guid": "caf87449-8704-4020-bef8-0b536ede6af9",
    "_uuid": "4c68c803-66b6-4545-8720-941910acfe0c",
    "collapsed": false,
    "jupyter": {
     "outputs_hidden": false
    },
    "papermill": {
     "duration": 0.005115,
     "end_time": "2025-06-04T13:07:17.960032",
     "exception": false,
     "start_time": "2025-06-04T13:07:17.954917",
     "status": "completed"
    },
    "tags": []
   },
   "source": [
    "# 데이터 불러오기"
   ]
  },
  {
   "cell_type": "code",
   "execution_count": 3,
   "id": "27bf867b",
   "metadata": {
    "_cell_guid": "5780be65-5edf-43aa-9f14-9d50220e0e28",
    "_uuid": "afa382e1-03c4-49cc-8d98-70f3ad6cee47",
    "collapsed": false,
    "execution": {
     "iopub.execute_input": "2025-06-04T13:07:17.972634Z",
     "iopub.status.busy": "2025-06-04T13:07:17.971840Z",
     "iopub.status.idle": "2025-06-04T13:07:18.056881Z",
     "shell.execute_reply": "2025-06-04T13:07:18.055907Z"
    },
    "jupyter": {
     "outputs_hidden": false
    },
    "papermill": {
     "duration": 0.093366,
     "end_time": "2025-06-04T13:07:18.058810",
     "exception": false,
     "start_time": "2025-06-04T13:07:17.965444",
     "status": "completed"
    },
    "tags": []
   },
   "outputs": [],
   "source": [
    "x_train = pd.read_csv('/kaggle/input/uou-ie-g-03874-spring-2025-term-project/ML_x_train.csv')\n",
    "x_test = pd.read_csv('/kaggle/input/uou-ie-g-03874-spring-2025-term-project/ML_x_test.csv')\n",
    "y_train = pd.read_csv('/kaggle/input/uou-ie-g-03874-spring-2025-term-project/ML_y_train.csv')"
   ]
  },
  {
   "cell_type": "code",
   "execution_count": 4,
   "id": "64a7dd7c",
   "metadata": {
    "_cell_guid": "c594a3e1-abb0-492e-bd49-06e1530cc2e7",
    "_uuid": "1c6c1ba6-c754-4af6-b4df-6eaf87fe4d6d",
    "collapsed": false,
    "execution": {
     "iopub.execute_input": "2025-06-04T13:07:18.071057Z",
     "iopub.status.busy": "2025-06-04T13:07:18.070656Z",
     "iopub.status.idle": "2025-06-04T13:07:18.082785Z",
     "shell.execute_reply": "2025-06-04T13:07:18.081875Z"
    },
    "jupyter": {
     "outputs_hidden": false
    },
    "papermill": {
     "duration": 0.020174,
     "end_time": "2025-06-04T13:07:18.084453",
     "exception": false,
     "start_time": "2025-06-04T13:07:18.064279",
     "status": "completed"
    },
    "tags": []
   },
   "outputs": [],
   "source": [
    "x_train['is_train'] = 1\n",
    "x_test['is_train'] = 0\n",
    "x = pd.concat([x_train, x_test], ignore_index=True)"
   ]
  },
  {
   "cell_type": "code",
   "execution_count": 5,
   "id": "8df1b9b2",
   "metadata": {
    "_cell_guid": "8d11827d-60bf-4264-bade-a02ec9be3501",
    "_uuid": "dadd6d3b-152b-4bac-a197-010a0625e4cf",
    "collapsed": false,
    "execution": {
     "iopub.execute_input": "2025-06-04T13:07:18.097104Z",
     "iopub.status.busy": "2025-06-04T13:07:18.096741Z",
     "iopub.status.idle": "2025-06-04T13:07:18.104007Z",
     "shell.execute_reply": "2025-06-04T13:07:18.103003Z"
    },
    "jupyter": {
     "outputs_hidden": false
    },
    "papermill": {
     "duration": 0.015893,
     "end_time": "2025-06-04T13:07:18.105672",
     "exception": false,
     "start_time": "2025-06-04T13:07:18.089779",
     "status": "completed"
    },
    "tags": []
   },
   "outputs": [],
   "source": [
    "# 결측치 처리\n",
    "x['Amount_invested_monthly'].fillna(x['Amount_invested_monthly'].median(), inplace=True)\n",
    "x['Num_of_Loan'].fillna(x['Num_of_Loan'].median(), inplace=True)"
   ]
  },
  {
   "cell_type": "code",
   "execution_count": 6,
   "id": "bf53934c",
   "metadata": {
    "_cell_guid": "53e5a4e9-1969-4e18-906f-13daa8a0f636",
    "_uuid": "514d8288-8dbb-45eb-aca6-a854cca5070e",
    "collapsed": false,
    "execution": {
     "iopub.execute_input": "2025-06-04T13:07:18.118295Z",
     "iopub.status.busy": "2025-06-04T13:07:18.117953Z",
     "iopub.status.idle": "2025-06-04T13:07:18.143869Z",
     "shell.execute_reply": "2025-06-04T13:07:18.142868Z"
    },
    "jupyter": {
     "outputs_hidden": false
    },
    "papermill": {
     "duration": 0.034427,
     "end_time": "2025-06-04T13:07:18.145635",
     "exception": false,
     "start_time": "2025-06-04T13:07:18.111208",
     "status": "completed"
    },
    "tags": []
   },
   "outputs": [],
   "source": [
    "# 이상치 처리 예시 (하한/상한 클리핑)\n",
    "def clip_outliers(col):\n",
    "    Q1 = x[col].quantile(0.25)\n",
    "    Q3 = x[col].quantile(0.75)\n",
    "    IQR = Q3 - Q1\n",
    "    lower = Q1 - 1.5 * IQR\n",
    "    upper = Q3 + 1.5 * IQR\n",
    "    x[col] = x[col].clip(lower, upper)\n",
    "\n",
    "clip_targets = ['Annual_Income', 'Monthly_Balance', 'Total_EMI_per_month', \n",
    "                'Amount_invested_monthly', 'Outstanding_Debt']\n",
    "\n",
    "for col in clip_targets:\n",
    "    clip_outliers(col)"
   ]
  },
  {
   "cell_type": "code",
   "execution_count": 7,
   "id": "17c97032",
   "metadata": {
    "_cell_guid": "07458f4a-f3eb-4166-be02-23af6a6ee38a",
    "_uuid": "3ebcd937-d64d-47d7-bae7-8ba8827da3a5",
    "collapsed": false,
    "execution": {
     "iopub.execute_input": "2025-06-04T13:07:18.158103Z",
     "iopub.status.busy": "2025-06-04T13:07:18.157746Z",
     "iopub.status.idle": "2025-06-04T13:07:18.174859Z",
     "shell.execute_reply": "2025-06-04T13:07:18.173833Z"
    },
    "jupyter": {
     "outputs_hidden": false
    },
    "papermill": {
     "duration": 0.025502,
     "end_time": "2025-06-04T13:07:18.176636",
     "exception": false,
     "start_time": "2025-06-04T13:07:18.151134",
     "status": "completed"
    },
    "tags": []
   },
   "outputs": [],
   "source": [
    "# 파생 변수 생성\n",
    "x['loan_to_income_ratio'] = x['Total_EMI_per_month'] / (x['Monthly_Inhand_Salary'] + 1)\n",
    "x['debt_to_income_ratio'] = x['Outstanding_Debt'] / (x['Annual_Income'] + 1)\n",
    "x['delayed_ratio'] = x['Num_of_Delayed_Payment'] / (x['Credit_History_Months'] + 1)\n",
    "x['balance_to_emi'] = x['Monthly_Balance'] / (x['Total_EMI_per_month'] + 1)\n",
    "x['salary_to_balance'] = x['Monthly_Inhand_Salary'] / (x['Monthly_Balance'] + 1)"
   ]
  },
  {
   "cell_type": "code",
   "execution_count": 8,
   "id": "fe48a265",
   "metadata": {
    "_cell_guid": "8f61cb88-19c4-4c23-bd47-6bebf7ed523e",
    "_uuid": "ae68a7c7-10bc-44dc-8c7d-8c2b28434b1e",
    "collapsed": false,
    "execution": {
     "iopub.execute_input": "2025-06-04T13:07:18.189521Z",
     "iopub.status.busy": "2025-06-04T13:07:18.189126Z",
     "iopub.status.idle": "2025-06-04T13:07:18.207532Z",
     "shell.execute_reply": "2025-06-04T13:07:18.206413Z"
    },
    "jupyter": {
     "outputs_hidden": false
    },
    "papermill": {
     "duration": 0.027425,
     "end_time": "2025-06-04T13:07:18.209365",
     "exception": false,
     "start_time": "2025-06-04T13:07:18.181940",
     "status": "completed"
    },
    "tags": []
   },
   "outputs": [],
   "source": [
    "# 데이터 재분할\n",
    "x_train_final = x[x['is_train'] == 1].drop(columns=['is_train'])\n",
    "x_test_final = x[x['is_train'] == 0].drop(columns=['is_train'])"
   ]
  },
  {
   "cell_type": "code",
   "execution_count": 9,
   "id": "7cda29aa",
   "metadata": {
    "_cell_guid": "9571d4f4-f0c2-4db6-b3e5-9a595cc96976",
    "_uuid": "2a641b66-586d-4199-bc67-b8f3d829e0c9",
    "collapsed": false,
    "execution": {
     "iopub.execute_input": "2025-06-04T13:07:18.221251Z",
     "iopub.status.busy": "2025-06-04T13:07:18.220944Z",
     "iopub.status.idle": "2025-06-04T13:07:18.225721Z",
     "shell.execute_reply": "2025-06-04T13:07:18.224724Z"
    },
    "jupyter": {
     "outputs_hidden": false
    },
    "papermill": {
     "duration": 0.012472,
     "end_time": "2025-06-04T13:07:18.227230",
     "exception": false,
     "start_time": "2025-06-04T13:07:18.214758",
     "status": "completed"
    },
    "tags": []
   },
   "outputs": [
    {
     "name": "stdout",
     "output_type": "stream",
     "text": [
      "Train shape: (9199, 23)\n",
      "Test shape: (2300, 23)\n"
     ]
    }
   ],
   "source": [
    "# 결과 확인\n",
    "print(\"Train shape:\", x_train_final.shape)\n",
    "print(\"Test shape:\", x_test_final.shape)"
   ]
  },
  {
   "cell_type": "code",
   "execution_count": 10,
   "id": "7c9d9ded",
   "metadata": {
    "_cell_guid": "984a931b-b07e-41b3-8eb6-e7fe5d71baf4",
    "_uuid": "33ef1a3b-7fc3-4e2d-bea4-faf9b1b49af8",
    "collapsed": false,
    "execution": {
     "iopub.execute_input": "2025-06-04T13:07:18.240089Z",
     "iopub.status.busy": "2025-06-04T13:07:18.239301Z",
     "iopub.status.idle": "2025-06-04T13:07:19.375919Z",
     "shell.execute_reply": "2025-06-04T13:07:19.374931Z"
    },
    "jupyter": {
     "outputs_hidden": false
    },
    "papermill": {
     "duration": 1.145212,
     "end_time": "2025-06-04T13:07:19.377876",
     "exception": false,
     "start_time": "2025-06-04T13:07:18.232664",
     "status": "completed"
    },
    "tags": []
   },
   "outputs": [
    {
     "data": {
      "text/html": [
       "<style>#sk-container-id-1 {color: black;}#sk-container-id-1 pre{padding: 0;}#sk-container-id-1 div.sk-toggleable {background-color: white;}#sk-container-id-1 label.sk-toggleable__label {cursor: pointer;display: block;width: 100%;margin-bottom: 0;padding: 0.3em;box-sizing: border-box;text-align: center;}#sk-container-id-1 label.sk-toggleable__label-arrow:before {content: \"▸\";float: left;margin-right: 0.25em;color: #696969;}#sk-container-id-1 label.sk-toggleable__label-arrow:hover:before {color: black;}#sk-container-id-1 div.sk-estimator:hover label.sk-toggleable__label-arrow:before {color: black;}#sk-container-id-1 div.sk-toggleable__content {max-height: 0;max-width: 0;overflow: hidden;text-align: left;background-color: #f0f8ff;}#sk-container-id-1 div.sk-toggleable__content pre {margin: 0.2em;color: black;border-radius: 0.25em;background-color: #f0f8ff;}#sk-container-id-1 input.sk-toggleable__control:checked~div.sk-toggleable__content {max-height: 200px;max-width: 100%;overflow: auto;}#sk-container-id-1 input.sk-toggleable__control:checked~label.sk-toggleable__label-arrow:before {content: \"▾\";}#sk-container-id-1 div.sk-estimator input.sk-toggleable__control:checked~label.sk-toggleable__label {background-color: #d4ebff;}#sk-container-id-1 div.sk-label input.sk-toggleable__control:checked~label.sk-toggleable__label {background-color: #d4ebff;}#sk-container-id-1 input.sk-hidden--visually {border: 0;clip: rect(1px 1px 1px 1px);clip: rect(1px, 1px, 1px, 1px);height: 1px;margin: -1px;overflow: hidden;padding: 0;position: absolute;width: 1px;}#sk-container-id-1 div.sk-estimator {font-family: monospace;background-color: #f0f8ff;border: 1px dotted black;border-radius: 0.25em;box-sizing: border-box;margin-bottom: 0.5em;}#sk-container-id-1 div.sk-estimator:hover {background-color: #d4ebff;}#sk-container-id-1 div.sk-parallel-item::after {content: \"\";width: 100%;border-bottom: 1px solid gray;flex-grow: 1;}#sk-container-id-1 div.sk-label:hover label.sk-toggleable__label {background-color: #d4ebff;}#sk-container-id-1 div.sk-serial::before {content: \"\";position: absolute;border-left: 1px solid gray;box-sizing: border-box;top: 0;bottom: 0;left: 50%;z-index: 0;}#sk-container-id-1 div.sk-serial {display: flex;flex-direction: column;align-items: center;background-color: white;padding-right: 0.2em;padding-left: 0.2em;position: relative;}#sk-container-id-1 div.sk-item {position: relative;z-index: 1;}#sk-container-id-1 div.sk-parallel {display: flex;align-items: stretch;justify-content: center;background-color: white;position: relative;}#sk-container-id-1 div.sk-item::before, #sk-container-id-1 div.sk-parallel-item::before {content: \"\";position: absolute;border-left: 1px solid gray;box-sizing: border-box;top: 0;bottom: 0;left: 50%;z-index: -1;}#sk-container-id-1 div.sk-parallel-item {display: flex;flex-direction: column;z-index: 1;position: relative;background-color: white;}#sk-container-id-1 div.sk-parallel-item:first-child::after {align-self: flex-end;width: 50%;}#sk-container-id-1 div.sk-parallel-item:last-child::after {align-self: flex-start;width: 50%;}#sk-container-id-1 div.sk-parallel-item:only-child::after {width: 0;}#sk-container-id-1 div.sk-dashed-wrapped {border: 1px dashed gray;margin: 0 0.4em 0.5em 0.4em;box-sizing: border-box;padding-bottom: 0.4em;background-color: white;}#sk-container-id-1 div.sk-label label {font-family: monospace;font-weight: bold;display: inline-block;line-height: 1.2em;}#sk-container-id-1 div.sk-label-container {text-align: center;}#sk-container-id-1 div.sk-container {/* jupyter's `normalize.less` sets `[hidden] { display: none; }` but bootstrap.min.css set `[hidden] { display: none !important; }` so we also need the `!important` here to be able to override the default hidden behavior on the sphinx rendered scikit-learn.org. See: https://github.com/scikit-learn/scikit-learn/issues/21755 */display: inline-block !important;position: relative;}#sk-container-id-1 div.sk-text-repr-fallback {display: none;}</style><div id=\"sk-container-id-1\" class=\"sk-top-container\"><div class=\"sk-text-repr-fallback\"><pre>XGBClassifier(base_score=None, booster=None, callbacks=None,\n",
       "              colsample_bylevel=None, colsample_bynode=None,\n",
       "              colsample_bytree=None, device=None, early_stopping_rounds=None,\n",
       "              enable_categorical=False, eval_metric=&#x27;mlogloss&#x27;,\n",
       "              feature_types=None, gamma=None, grow_policy=None,\n",
       "              importance_type=None, interaction_constraints=None,\n",
       "              learning_rate=None, max_bin=None, max_cat_threshold=None,\n",
       "              max_cat_to_onehot=None, max_delta_step=None, max_depth=None,\n",
       "              max_leaves=None, min_child_weight=None, missing=nan,\n",
       "              monotone_constraints=None, multi_strategy=None, n_estimators=None,\n",
       "              n_jobs=None, num_parallel_tree=None, objective=&#x27;multi:softprob&#x27;, ...)</pre><b>In a Jupyter environment, please rerun this cell to show the HTML representation or trust the notebook. <br />On GitHub, the HTML representation is unable to render, please try loading this page with nbviewer.org.</b></div><div class=\"sk-container\" hidden><div class=\"sk-item\"><div class=\"sk-estimator sk-toggleable\"><input class=\"sk-toggleable__control sk-hidden--visually\" id=\"sk-estimator-id-1\" type=\"checkbox\" checked><label for=\"sk-estimator-id-1\" class=\"sk-toggleable__label sk-toggleable__label-arrow\">XGBClassifier</label><div class=\"sk-toggleable__content\"><pre>XGBClassifier(base_score=None, booster=None, callbacks=None,\n",
       "              colsample_bylevel=None, colsample_bynode=None,\n",
       "              colsample_bytree=None, device=None, early_stopping_rounds=None,\n",
       "              enable_categorical=False, eval_metric=&#x27;mlogloss&#x27;,\n",
       "              feature_types=None, gamma=None, grow_policy=None,\n",
       "              importance_type=None, interaction_constraints=None,\n",
       "              learning_rate=None, max_bin=None, max_cat_threshold=None,\n",
       "              max_cat_to_onehot=None, max_delta_step=None, max_depth=None,\n",
       "              max_leaves=None, min_child_weight=None, missing=nan,\n",
       "              monotone_constraints=None, multi_strategy=None, n_estimators=None,\n",
       "              n_jobs=None, num_parallel_tree=None, objective=&#x27;multi:softprob&#x27;, ...)</pre></div></div></div></div></div>"
      ],
      "text/plain": [
       "XGBClassifier(base_score=None, booster=None, callbacks=None,\n",
       "              colsample_bylevel=None, colsample_bynode=None,\n",
       "              colsample_bytree=None, device=None, early_stopping_rounds=None,\n",
       "              enable_categorical=False, eval_metric='mlogloss',\n",
       "              feature_types=None, gamma=None, grow_policy=None,\n",
       "              importance_type=None, interaction_constraints=None,\n",
       "              learning_rate=None, max_bin=None, max_cat_threshold=None,\n",
       "              max_cat_to_onehot=None, max_delta_step=None, max_depth=None,\n",
       "              max_leaves=None, min_child_weight=None, missing=nan,\n",
       "              monotone_constraints=None, multi_strategy=None, n_estimators=None,\n",
       "              n_jobs=None, num_parallel_tree=None, objective='multi:softprob', ...)"
      ]
     },
     "execution_count": 10,
     "metadata": {},
     "output_type": "execute_result"
    }
   ],
   "source": [
    "# 모델 학습\n",
    "xgb_model = XGBClassifier(use_label_encoder=False, eval_metric='mlogloss', random_state=42)\n",
    "xgb_model.fit(x_train_final, y_train.values.ravel())"
   ]
  },
  {
   "cell_type": "code",
   "execution_count": 11,
   "id": "e6af45c2",
   "metadata": {
    "_cell_guid": "95f5f508-d1a0-43ce-9929-09b1731509a3",
    "_uuid": "c238e1c5-8509-47e7-9ca6-fb689ae31533",
    "collapsed": false,
    "execution": {
     "iopub.execute_input": "2025-06-04T13:07:19.390893Z",
     "iopub.status.busy": "2025-06-04T13:07:19.390568Z",
     "iopub.status.idle": "2025-06-04T13:07:37.458327Z",
     "shell.execute_reply": "2025-06-04T13:07:37.457478Z"
    },
    "jupyter": {
     "outputs_hidden": false
    },
    "papermill": {
     "duration": 18.076321,
     "end_time": "2025-06-04T13:07:37.460081",
     "exception": false,
     "start_time": "2025-06-04T13:07:19.383760",
     "status": "completed"
    },
    "tags": []
   },
   "outputs": [],
   "source": [
    "# SHAP 계산\n",
    "explainer = shap.TreeExplainer(xgb_model)\n",
    "shap_values = explainer.shap_values(x_train_final)"
   ]
  },
  {
   "cell_type": "code",
   "execution_count": 12,
   "id": "8ae288a2",
   "metadata": {
    "_cell_guid": "dba9ecc5-fe9c-4e30-83d5-aaae9c985417",
    "_uuid": "14ed0def-3192-4d2f-b550-1f74ad4b7158",
    "collapsed": false,
    "execution": {
     "iopub.execute_input": "2025-06-04T13:07:37.473581Z",
     "iopub.status.busy": "2025-06-04T13:07:37.472519Z",
     "iopub.status.idle": "2025-06-04T13:07:37.480853Z",
     "shell.execute_reply": "2025-06-04T13:07:37.479824Z"
    },
    "jupyter": {
     "outputs_hidden": false
    },
    "papermill": {
     "duration": 0.016338,
     "end_time": "2025-06-04T13:07:37.482256",
     "exception": false,
     "start_time": "2025-06-04T13:07:37.465918",
     "status": "completed"
    },
    "tags": []
   },
   "outputs": [
    {
     "name": "stdout",
     "output_type": "stream",
     "text": [
      "중요 변수 TOP 20:\n",
      " ['Payment_of_Min_Amount', 'Outstanding_Debt', 'Interest_Rate', 'Num_Credit_Card', 'Delay_from_due_date', 'Num_of_Delayed_Payment', 'Num_Bank_Accounts', 'delayed_ratio', 'Num_Credit_Inquiries', 'Credit_History_Months', 'balance_to_emi', 'loan_to_income_ratio', 'Total_EMI_per_month', 'Amount_invested_monthly', 'salary_to_balance', 'Credit_Utilization_Ratio', 'Monthly_Inhand_Salary', 'debt_to_income_ratio', 'Age', 'Monthly_Balance']\n"
     ]
    }
   ],
   "source": [
    "# 중요 변수 정리\n",
    "importances = xgb_model.feature_importances_\n",
    "importance_df = pd.DataFrame({'feature': x_train_final.columns, 'importance': importances})\n",
    "top_features = importance_df.sort_values(by='importance', ascending=False).head(20)['feature'].tolist()\n",
    "\n",
    "print(\"중요 변수 TOP 20:\\n\", top_features)"
   ]
  },
  {
   "cell_type": "code",
   "execution_count": 13,
   "id": "e1522c3a",
   "metadata": {
    "_cell_guid": "50458b94-2b2b-44da-b76c-b00fe636911e",
    "_uuid": "d9c7525f-9645-449f-a25b-be7d9e3a5ef3",
    "collapsed": false,
    "execution": {
     "iopub.execute_input": "2025-06-04T13:07:37.494712Z",
     "iopub.status.busy": "2025-06-04T13:07:37.494355Z",
     "iopub.status.idle": "2025-06-04T13:07:37.511371Z",
     "shell.execute_reply": "2025-06-04T13:07:37.510407Z"
    },
    "jupyter": {
     "outputs_hidden": false
    },
    "papermill": {
     "duration": 0.025274,
     "end_time": "2025-06-04T13:07:37.513172",
     "exception": false,
     "start_time": "2025-06-04T13:07:37.487898",
     "status": "completed"
    },
    "tags": []
   },
   "outputs": [],
   "source": [
    "# 데이터 분할\n",
    "X = x_train_final[top_features]\n",
    "X_test = x_test_final[top_features]\n",
    "y = y_train['Credit_Score']\n",
    "X_tr, X_val, y_tr, y_val = train_test_split(X, y, test_size=0.2, stratify=y, random_state=42)"
   ]
  },
  {
   "cell_type": "code",
   "execution_count": 14,
   "id": "50532e1f",
   "metadata": {
    "_cell_guid": "fce01801-a67e-4ee3-9fcf-47891a5ecb2c",
    "_uuid": "0852be45-e8f2-4bff-8364-33a417619b8a",
    "collapsed": false,
    "execution": {
     "iopub.execute_input": "2025-06-04T13:07:37.526547Z",
     "iopub.status.busy": "2025-06-04T13:07:37.526191Z",
     "iopub.status.idle": "2025-06-04T13:07:37.642505Z",
     "shell.execute_reply": "2025-06-04T13:07:37.641604Z"
    },
    "jupyter": {
     "outputs_hidden": false
    },
    "papermill": {
     "duration": 0.124677,
     "end_time": "2025-06-04T13:07:37.644211",
     "exception": false,
     "start_time": "2025-06-04T13:07:37.519534",
     "status": "completed"
    },
    "tags": []
   },
   "outputs": [],
   "source": [
    "# SMOTE 적용\n",
    "smote = SMOTE(random_state=42)\n",
    "X_tr_resampled, y_tr_resampled = smote.fit_resample(X_tr, y_tr)"
   ]
  },
  {
   "cell_type": "code",
   "execution_count": 15,
   "id": "ac813e84",
   "metadata": {
    "_cell_guid": "332a1399-4426-474a-a729-8d0852c6c461",
    "_uuid": "3b22014e-3f98-408f-b20c-97c5535bfbbc",
    "collapsed": false,
    "execution": {
     "iopub.execute_input": "2025-06-04T13:07:37.656759Z",
     "iopub.status.busy": "2025-06-04T13:07:37.656372Z",
     "iopub.status.idle": "2025-06-04T13:07:37.662059Z",
     "shell.execute_reply": "2025-06-04T13:07:37.660945Z"
    },
    "jupyter": {
     "outputs_hidden": false
    },
    "papermill": {
     "duration": 0.013865,
     "end_time": "2025-06-04T13:07:37.663772",
     "exception": false,
     "start_time": "2025-06-04T13:07:37.649907",
     "status": "completed"
    },
    "tags": []
   },
   "outputs": [],
   "source": [
    "# 단일 XGBoost 모델 훈련\n",
    "xgb = XGBClassifier(\n",
    "    n_estimators=200,\n",
    "    learning_rate=0.02,\n",
    "    max_depth=5,\n",
    "    subsample=0.85,\n",
    "    colsample_bytree=1.0,\n",
    "    gamma=0.1,\n",
    "    reg_alpha=0,\n",
    "    reg_lambda=1.8,\n",
    "    use_label_encoder=False,\n",
    "    eval_metric='mlogloss',\n",
    "    random_state=42\n",
    ")\n",
    "\n",
    "rf = RandomForestClassifier(\n",
    "    n_estimators=300,\n",
    "    max_depth=20,\n",
    "    min_samples_split=2,\n",
    "    min_samples_leaf=1,\n",
    "    random_state=42\n",
    ")"
   ]
  },
  {
   "cell_type": "code",
   "execution_count": 16,
   "id": "8917a8dd",
   "metadata": {
    "execution": {
     "iopub.execute_input": "2025-06-04T13:07:37.676710Z",
     "iopub.status.busy": "2025-06-04T13:07:37.676338Z",
     "iopub.status.idle": "2025-06-04T13:07:56.745632Z",
     "shell.execute_reply": "2025-06-04T13:07:56.744630Z"
    },
    "papermill": {
     "duration": 19.077583,
     "end_time": "2025-06-04T13:07:56.747324",
     "exception": false,
     "start_time": "2025-06-04T13:07:37.669741",
     "status": "completed"
    },
    "tags": []
   },
   "outputs": [
    {
     "data": {
      "text/html": [
       "<style>#sk-container-id-2 {color: black;}#sk-container-id-2 pre{padding: 0;}#sk-container-id-2 div.sk-toggleable {background-color: white;}#sk-container-id-2 label.sk-toggleable__label {cursor: pointer;display: block;width: 100%;margin-bottom: 0;padding: 0.3em;box-sizing: border-box;text-align: center;}#sk-container-id-2 label.sk-toggleable__label-arrow:before {content: \"▸\";float: left;margin-right: 0.25em;color: #696969;}#sk-container-id-2 label.sk-toggleable__label-arrow:hover:before {color: black;}#sk-container-id-2 div.sk-estimator:hover label.sk-toggleable__label-arrow:before {color: black;}#sk-container-id-2 div.sk-toggleable__content {max-height: 0;max-width: 0;overflow: hidden;text-align: left;background-color: #f0f8ff;}#sk-container-id-2 div.sk-toggleable__content pre {margin: 0.2em;color: black;border-radius: 0.25em;background-color: #f0f8ff;}#sk-container-id-2 input.sk-toggleable__control:checked~div.sk-toggleable__content {max-height: 200px;max-width: 100%;overflow: auto;}#sk-container-id-2 input.sk-toggleable__control:checked~label.sk-toggleable__label-arrow:before {content: \"▾\";}#sk-container-id-2 div.sk-estimator input.sk-toggleable__control:checked~label.sk-toggleable__label {background-color: #d4ebff;}#sk-container-id-2 div.sk-label input.sk-toggleable__control:checked~label.sk-toggleable__label {background-color: #d4ebff;}#sk-container-id-2 input.sk-hidden--visually {border: 0;clip: rect(1px 1px 1px 1px);clip: rect(1px, 1px, 1px, 1px);height: 1px;margin: -1px;overflow: hidden;padding: 0;position: absolute;width: 1px;}#sk-container-id-2 div.sk-estimator {font-family: monospace;background-color: #f0f8ff;border: 1px dotted black;border-radius: 0.25em;box-sizing: border-box;margin-bottom: 0.5em;}#sk-container-id-2 div.sk-estimator:hover {background-color: #d4ebff;}#sk-container-id-2 div.sk-parallel-item::after {content: \"\";width: 100%;border-bottom: 1px solid gray;flex-grow: 1;}#sk-container-id-2 div.sk-label:hover label.sk-toggleable__label {background-color: #d4ebff;}#sk-container-id-2 div.sk-serial::before {content: \"\";position: absolute;border-left: 1px solid gray;box-sizing: border-box;top: 0;bottom: 0;left: 50%;z-index: 0;}#sk-container-id-2 div.sk-serial {display: flex;flex-direction: column;align-items: center;background-color: white;padding-right: 0.2em;padding-left: 0.2em;position: relative;}#sk-container-id-2 div.sk-item {position: relative;z-index: 1;}#sk-container-id-2 div.sk-parallel {display: flex;align-items: stretch;justify-content: center;background-color: white;position: relative;}#sk-container-id-2 div.sk-item::before, #sk-container-id-2 div.sk-parallel-item::before {content: \"\";position: absolute;border-left: 1px solid gray;box-sizing: border-box;top: 0;bottom: 0;left: 50%;z-index: -1;}#sk-container-id-2 div.sk-parallel-item {display: flex;flex-direction: column;z-index: 1;position: relative;background-color: white;}#sk-container-id-2 div.sk-parallel-item:first-child::after {align-self: flex-end;width: 50%;}#sk-container-id-2 div.sk-parallel-item:last-child::after {align-self: flex-start;width: 50%;}#sk-container-id-2 div.sk-parallel-item:only-child::after {width: 0;}#sk-container-id-2 div.sk-dashed-wrapped {border: 1px dashed gray;margin: 0 0.4em 0.5em 0.4em;box-sizing: border-box;padding-bottom: 0.4em;background-color: white;}#sk-container-id-2 div.sk-label label {font-family: monospace;font-weight: bold;display: inline-block;line-height: 1.2em;}#sk-container-id-2 div.sk-label-container {text-align: center;}#sk-container-id-2 div.sk-container {/* jupyter's `normalize.less` sets `[hidden] { display: none; }` but bootstrap.min.css set `[hidden] { display: none !important; }` so we also need the `!important` here to be able to override the default hidden behavior on the sphinx rendered scikit-learn.org. See: https://github.com/scikit-learn/scikit-learn/issues/21755 */display: inline-block !important;position: relative;}#sk-container-id-2 div.sk-text-repr-fallback {display: none;}</style><div id=\"sk-container-id-2\" class=\"sk-top-container\"><div class=\"sk-text-repr-fallback\"><pre>VotingClassifier(estimators=[(&#x27;xgb&#x27;,\n",
       "                              XGBClassifier(base_score=None, booster=None,\n",
       "                                            callbacks=None,\n",
       "                                            colsample_bylevel=None,\n",
       "                                            colsample_bynode=None,\n",
       "                                            colsample_bytree=1.0, device=None,\n",
       "                                            early_stopping_rounds=None,\n",
       "                                            enable_categorical=False,\n",
       "                                            eval_metric=&#x27;mlogloss&#x27;,\n",
       "                                            feature_types=None, gamma=0.1,\n",
       "                                            grow_policy=None,\n",
       "                                            importance_type=None,\n",
       "                                            interaction_constraints=None,\n",
       "                                            learnin...\n",
       "                                            max_cat_threshold=None,\n",
       "                                            max_cat_to_onehot=None,\n",
       "                                            max_delta_step=None, max_depth=5,\n",
       "                                            max_leaves=None,\n",
       "                                            min_child_weight=None, missing=nan,\n",
       "                                            monotone_constraints=None,\n",
       "                                            multi_strategy=None,\n",
       "                                            n_estimators=200, n_jobs=None,\n",
       "                                            num_parallel_tree=None,\n",
       "                                            random_state=42, ...)),\n",
       "                             (&#x27;rf&#x27;,\n",
       "                              RandomForestClassifier(max_depth=20,\n",
       "                                                     n_estimators=300,\n",
       "                                                     random_state=42))],\n",
       "                 n_jobs=-1, voting=&#x27;soft&#x27;)</pre><b>In a Jupyter environment, please rerun this cell to show the HTML representation or trust the notebook. <br />On GitHub, the HTML representation is unable to render, please try loading this page with nbviewer.org.</b></div><div class=\"sk-container\" hidden><div class=\"sk-item sk-dashed-wrapped\"><div class=\"sk-label-container\"><div class=\"sk-label sk-toggleable\"><input class=\"sk-toggleable__control sk-hidden--visually\" id=\"sk-estimator-id-2\" type=\"checkbox\" ><label for=\"sk-estimator-id-2\" class=\"sk-toggleable__label sk-toggleable__label-arrow\">VotingClassifier</label><div class=\"sk-toggleable__content\"><pre>VotingClassifier(estimators=[(&#x27;xgb&#x27;,\n",
       "                              XGBClassifier(base_score=None, booster=None,\n",
       "                                            callbacks=None,\n",
       "                                            colsample_bylevel=None,\n",
       "                                            colsample_bynode=None,\n",
       "                                            colsample_bytree=1.0, device=None,\n",
       "                                            early_stopping_rounds=None,\n",
       "                                            enable_categorical=False,\n",
       "                                            eval_metric=&#x27;mlogloss&#x27;,\n",
       "                                            feature_types=None, gamma=0.1,\n",
       "                                            grow_policy=None,\n",
       "                                            importance_type=None,\n",
       "                                            interaction_constraints=None,\n",
       "                                            learnin...\n",
       "                                            max_cat_threshold=None,\n",
       "                                            max_cat_to_onehot=None,\n",
       "                                            max_delta_step=None, max_depth=5,\n",
       "                                            max_leaves=None,\n",
       "                                            min_child_weight=None, missing=nan,\n",
       "                                            monotone_constraints=None,\n",
       "                                            multi_strategy=None,\n",
       "                                            n_estimators=200, n_jobs=None,\n",
       "                                            num_parallel_tree=None,\n",
       "                                            random_state=42, ...)),\n",
       "                             (&#x27;rf&#x27;,\n",
       "                              RandomForestClassifier(max_depth=20,\n",
       "                                                     n_estimators=300,\n",
       "                                                     random_state=42))],\n",
       "                 n_jobs=-1, voting=&#x27;soft&#x27;)</pre></div></div></div><div class=\"sk-parallel\"><div class=\"sk-parallel-item\"><div class=\"sk-item\"><div class=\"sk-label-container\"><div class=\"sk-label sk-toggleable\"><label>xgb</label></div></div><div class=\"sk-serial\"><div class=\"sk-item\"><div class=\"sk-estimator sk-toggleable\"><input class=\"sk-toggleable__control sk-hidden--visually\" id=\"sk-estimator-id-3\" type=\"checkbox\" ><label for=\"sk-estimator-id-3\" class=\"sk-toggleable__label sk-toggleable__label-arrow\">XGBClassifier</label><div class=\"sk-toggleable__content\"><pre>XGBClassifier(base_score=None, booster=None, callbacks=None,\n",
       "              colsample_bylevel=None, colsample_bynode=None,\n",
       "              colsample_bytree=1.0, device=None, early_stopping_rounds=None,\n",
       "              enable_categorical=False, eval_metric=&#x27;mlogloss&#x27;,\n",
       "              feature_types=None, gamma=0.1, grow_policy=None,\n",
       "              importance_type=None, interaction_constraints=None,\n",
       "              learning_rate=0.02, max_bin=None, max_cat_threshold=None,\n",
       "              max_cat_to_onehot=None, max_delta_step=None, max_depth=5,\n",
       "              max_leaves=None, min_child_weight=None, missing=nan,\n",
       "              monotone_constraints=None, multi_strategy=None, n_estimators=200,\n",
       "              n_jobs=None, num_parallel_tree=None, random_state=42, ...)</pre></div></div></div></div></div></div><div class=\"sk-parallel-item\"><div class=\"sk-item\"><div class=\"sk-label-container\"><div class=\"sk-label sk-toggleable\"><label>rf</label></div></div><div class=\"sk-serial\"><div class=\"sk-item\"><div class=\"sk-estimator sk-toggleable\"><input class=\"sk-toggleable__control sk-hidden--visually\" id=\"sk-estimator-id-4\" type=\"checkbox\" ><label for=\"sk-estimator-id-4\" class=\"sk-toggleable__label sk-toggleable__label-arrow\">RandomForestClassifier</label><div class=\"sk-toggleable__content\"><pre>RandomForestClassifier(max_depth=20, n_estimators=300, random_state=42)</pre></div></div></div></div></div></div></div></div></div></div>"
      ],
      "text/plain": [
       "VotingClassifier(estimators=[('xgb',\n",
       "                              XGBClassifier(base_score=None, booster=None,\n",
       "                                            callbacks=None,\n",
       "                                            colsample_bylevel=None,\n",
       "                                            colsample_bynode=None,\n",
       "                                            colsample_bytree=1.0, device=None,\n",
       "                                            early_stopping_rounds=None,\n",
       "                                            enable_categorical=False,\n",
       "                                            eval_metric='mlogloss',\n",
       "                                            feature_types=None, gamma=0.1,\n",
       "                                            grow_policy=None,\n",
       "                                            importance_type=None,\n",
       "                                            interaction_constraints=None,\n",
       "                                            learnin...\n",
       "                                            max_cat_threshold=None,\n",
       "                                            max_cat_to_onehot=None,\n",
       "                                            max_delta_step=None, max_depth=5,\n",
       "                                            max_leaves=None,\n",
       "                                            min_child_weight=None, missing=nan,\n",
       "                                            monotone_constraints=None,\n",
       "                                            multi_strategy=None,\n",
       "                                            n_estimators=200, n_jobs=None,\n",
       "                                            num_parallel_tree=None,\n",
       "                                            random_state=42, ...)),\n",
       "                             ('rf',\n",
       "                              RandomForestClassifier(max_depth=20,\n",
       "                                                     n_estimators=300,\n",
       "                                                     random_state=42))],\n",
       "                 n_jobs=-1, voting='soft')"
      ]
     },
     "execution_count": 16,
     "metadata": {},
     "output_type": "execute_result"
    }
   ],
   "source": [
    "voting_model = VotingClassifier(\n",
    "    estimators=[('xgb', xgb), ('rf', rf)],\n",
    "    voting='soft',\n",
    "    n_jobs=-1\n",
    ")\n",
    "voting_model.fit(X_tr_resampled, y_tr_resampled)"
   ]
  },
  {
   "cell_type": "code",
   "execution_count": 17,
   "id": "1482145d",
   "metadata": {
    "_cell_guid": "9998049b-cfbc-43fc-81ae-426a0543ac04",
    "_uuid": "b1f691d1-5142-4bb8-a0b9-49e4f356c3d4",
    "collapsed": false,
    "execution": {
     "iopub.execute_input": "2025-06-04T13:07:56.761306Z",
     "iopub.status.busy": "2025-06-04T13:07:56.760967Z",
     "iopub.status.idle": "2025-06-04T13:07:56.950361Z",
     "shell.execute_reply": "2025-06-04T13:07:56.949144Z"
    },
    "jupyter": {
     "outputs_hidden": false
    },
    "papermill": {
     "duration": 0.198244,
     "end_time": "2025-06-04T13:07:56.952023",
     "exception": false,
     "start_time": "2025-06-04T13:07:56.753779",
     "status": "completed"
    },
    "tags": []
   },
   "outputs": [
    {
     "name": "stdout",
     "output_type": "stream",
     "text": [
      "Macro F1: 0.6508165769341551\n",
      "              precision    recall  f1-score   support\n",
      "\n",
      "           0       0.50      0.64      0.56       335\n",
      "           1       0.66      0.75      0.70       534\n",
      "           2       0.76      0.63      0.69       971\n",
      "\n",
      "    accuracy                           0.67      1840\n",
      "   macro avg       0.64      0.67      0.65      1840\n",
      "weighted avg       0.68      0.67      0.67      1840\n",
      "\n"
     ]
    }
   ],
   "source": [
    "val_preds = voting_model.predict(X_val)\n",
    "print(\"Macro F1:\", f1_score(y_val, val_preds, average='macro'))\n",
    "print(classification_report(y_val, val_preds))"
   ]
  },
  {
   "cell_type": "code",
   "execution_count": 18,
   "id": "7bb1d1fc",
   "metadata": {
    "_cell_guid": "405f6d36-4288-49e9-b6d0-b1b5e982656b",
    "_uuid": "317d0ef0-ce50-40de-b55c-9e20c0018231",
    "collapsed": false,
    "execution": {
     "iopub.execute_input": "2025-06-04T13:07:56.966972Z",
     "iopub.status.busy": "2025-06-04T13:07:56.966643Z",
     "iopub.status.idle": "2025-06-04T13:08:11.519916Z",
     "shell.execute_reply": "2025-06-04T13:08:11.518821Z"
    },
    "jupyter": {
     "outputs_hidden": false
    },
    "papermill": {
     "duration": 14.56301,
     "end_time": "2025-06-04T13:08:11.521938",
     "exception": false,
     "start_time": "2025-06-04T13:07:56.958928",
     "status": "completed"
    },
    "tags": []
   },
   "outputs": [],
   "source": [
    "voting_model.fit(X, y)\n",
    "test_preds = voting_model.predict(X_test)"
   ]
  },
  {
   "cell_type": "code",
   "execution_count": 19,
   "id": "6d418201",
   "metadata": {
    "_cell_guid": "51c0b538-ebd8-44d7-a189-3f48e760068f",
    "_uuid": "a97b1651-9836-4a1f-9d5a-7adb92e0e4c4",
    "collapsed": false,
    "execution": {
     "iopub.execute_input": "2025-06-04T13:08:11.536345Z",
     "iopub.status.busy": "2025-06-04T13:08:11.535454Z",
     "iopub.status.idle": "2025-06-04T13:08:11.556887Z",
     "shell.execute_reply": "2025-06-04T13:08:11.555888Z"
    },
    "jupyter": {
     "outputs_hidden": false
    },
    "papermill": {
     "duration": 0.030128,
     "end_time": "2025-06-04T13:08:11.558641",
     "exception": false,
     "start_time": "2025-06-04T13:08:11.528513",
     "status": "completed"
    },
    "tags": []
   },
   "outputs": [],
   "source": [
    "# 제출 파일 생성\n",
    "submission = pd.read_csv('/kaggle/input/uou-ie-g-03874-spring-2025-term-project/ML_sample_submission.csv')\n",
    "submission['Credit_Score'] = test_preds\n",
    "submission.to_csv('submission.csv', index=False)"
   ]
  }
 ],
 "metadata": {
  "kaggle": {
   "accelerator": "none",
   "dataSources": [
    {
     "databundleVersionId": 12220852,
     "sourceId": 101385,
     "sourceType": "competition"
    }
   ],
   "isGpuEnabled": false,
   "isInternetEnabled": true,
   "language": "python",
   "sourceType": "notebook"
  },
  "kernelspec": {
   "display_name": "Python 3",
   "language": "python",
   "name": "python3"
  },
  "language_info": {
   "codemirror_mode": {
    "name": "ipython",
    "version": 3
   },
   "file_extension": ".py",
   "mimetype": "text/x-python",
   "name": "python",
   "nbconvert_exporter": "python",
   "pygments_lexer": "ipython3",
   "version": "3.11.11"
  },
  "papermill": {
   "default_parameters": {},
   "duration": 90.14119,
   "end_time": "2025-06-04T13:08:14.284815",
   "environment_variables": {},
   "exception": null,
   "input_path": "__notebook__.ipynb",
   "output_path": "__notebook__.ipynb",
   "parameters": {},
   "start_time": "2025-06-04T13:06:44.143625",
   "version": "2.6.0"
  }
 },
 "nbformat": 4,
 "nbformat_minor": 5
}
