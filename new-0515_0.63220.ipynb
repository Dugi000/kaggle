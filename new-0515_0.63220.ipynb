{
 "cells": [
  {
   "cell_type": "markdown",
   "id": "a1fc9e96",
   "metadata": {
    "_cell_guid": "1501f207-83f8-4082-b4f4-32b37f6475d1",
    "_uuid": "6dc52667-0006-4128-8eae-d79c54817a8c",
    "collapsed": false,
    "jupyter": {
     "outputs_hidden": false
    },
    "papermill": {
     "duration": 0.005575,
     "end_time": "2025-06-04T11:16:38.438592",
     "exception": false,
     "start_time": "2025-06-04T11:16:38.433017",
     "status": "completed"
    },
    "tags": []
   },
   "source": [
    "# 라이브러리"
   ]
  },
  {
   "cell_type": "code",
   "execution_count": 1,
   "id": "ffe558bc",
   "metadata": {
    "_cell_guid": "6849e8d9-013f-4d60-9cc6-7ef04e58b744",
    "_uuid": "e11e5d76-8380-4ad5-8d47-90e897cbf700",
    "collapsed": false,
    "execution": {
     "iopub.execute_input": "2025-06-04T11:16:38.449513Z",
     "iopub.status.busy": "2025-06-04T11:16:38.449200Z",
     "iopub.status.idle": "2025-06-04T11:16:48.590173Z",
     "shell.execute_reply": "2025-06-04T11:16:48.589036Z"
    },
    "jupyter": {
     "outputs_hidden": false
    },
    "papermill": {
     "duration": 10.148649,
     "end_time": "2025-06-04T11:16:48.591956",
     "exception": false,
     "start_time": "2025-06-04T11:16:38.443307",
     "status": "completed"
    },
    "tags": []
   },
   "outputs": [
    {
     "name": "stdout",
     "output_type": "stream",
     "text": [
      "Collecting scikit-learn==1.3.2\r\n",
      "  Downloading scikit_learn-1.3.2-cp311-cp311-manylinux_2_17_x86_64.manylinux2014_x86_64.whl.metadata (11 kB)\r\n",
      "Collecting imbalanced-learn==0.11.0\r\n",
      "  Downloading imbalanced_learn-0.11.0-py3-none-any.whl.metadata (8.3 kB)\r\n",
      "Requirement already satisfied: numpy<2.0,>=1.17.3 in /usr/local/lib/python3.11/dist-packages (from scikit-learn==1.3.2) (1.26.4)\r\n",
      "Requirement already satisfied: scipy>=1.5.0 in /usr/local/lib/python3.11/dist-packages (from scikit-learn==1.3.2) (1.15.2)\r\n",
      "Requirement already satisfied: joblib>=1.1.1 in /usr/local/lib/python3.11/dist-packages (from scikit-learn==1.3.2) (1.5.0)\r\n",
      "Requirement already satisfied: threadpoolctl>=2.0.0 in /usr/local/lib/python3.11/dist-packages (from scikit-learn==1.3.2) (3.6.0)\r\n",
      "Requirement already satisfied: mkl_fft in /usr/local/lib/python3.11/dist-packages (from numpy<2.0,>=1.17.3->scikit-learn==1.3.2) (1.3.8)\r\n",
      "Requirement already satisfied: mkl_random in /usr/local/lib/python3.11/dist-packages (from numpy<2.0,>=1.17.3->scikit-learn==1.3.2) (1.2.4)\r\n",
      "Requirement already satisfied: mkl_umath in /usr/local/lib/python3.11/dist-packages (from numpy<2.0,>=1.17.3->scikit-learn==1.3.2) (0.1.1)\r\n",
      "Requirement already satisfied: mkl in /usr/local/lib/python3.11/dist-packages (from numpy<2.0,>=1.17.3->scikit-learn==1.3.2) (2025.1.0)\r\n",
      "Requirement already satisfied: tbb4py in /usr/local/lib/python3.11/dist-packages (from numpy<2.0,>=1.17.3->scikit-learn==1.3.2) (2022.1.0)\r\n",
      "Requirement already satisfied: mkl-service in /usr/local/lib/python3.11/dist-packages (from numpy<2.0,>=1.17.3->scikit-learn==1.3.2) (2.4.1)\r\n",
      "Requirement already satisfied: intel-openmp<2026,>=2024 in /usr/local/lib/python3.11/dist-packages (from mkl->numpy<2.0,>=1.17.3->scikit-learn==1.3.2) (2024.2.0)\r\n",
      "Requirement already satisfied: tbb==2022.* in /usr/local/lib/python3.11/dist-packages (from mkl->numpy<2.0,>=1.17.3->scikit-learn==1.3.2) (2022.1.0)\r\n",
      "Requirement already satisfied: tcmlib==1.* in /usr/local/lib/python3.11/dist-packages (from tbb==2022.*->mkl->numpy<2.0,>=1.17.3->scikit-learn==1.3.2) (1.3.0)\r\n",
      "Requirement already satisfied: intel-cmplr-lib-rt in /usr/local/lib/python3.11/dist-packages (from mkl_umath->numpy<2.0,>=1.17.3->scikit-learn==1.3.2) (2024.2.0)\r\n",
      "Requirement already satisfied: intel-cmplr-lib-ur==2024.2.0 in /usr/local/lib/python3.11/dist-packages (from intel-openmp<2026,>=2024->mkl->numpy<2.0,>=1.17.3->scikit-learn==1.3.2) (2024.2.0)\r\n",
      "Downloading scikit_learn-1.3.2-cp311-cp311-manylinux_2_17_x86_64.manylinux2014_x86_64.whl (10.9 MB)\r\n",
      "\u001b[2K   \u001b[90m━━━━━━━━━━━━━━━━━━━━━━━━━━━━━━━━━━━━━━━━\u001b[0m \u001b[32m10.9/10.9 MB\u001b[0m \u001b[31m76.7 MB/s\u001b[0m eta \u001b[36m0:00:00\u001b[0m\r\n",
      "\u001b[?25hDownloading imbalanced_learn-0.11.0-py3-none-any.whl (235 kB)\r\n",
      "\u001b[2K   \u001b[90m━━━━━━━━━━━━━━━━━━━━━━━━━━━━━━━━━━━━━━━━\u001b[0m \u001b[32m235.6/235.6 kB\u001b[0m \u001b[31m12.4 MB/s\u001b[0m eta \u001b[36m0:00:00\u001b[0m\r\n",
      "\u001b[?25hInstalling collected packages: scikit-learn, imbalanced-learn\r\n",
      "  Attempting uninstall: scikit-learn\r\n",
      "    Found existing installation: scikit-learn 1.2.2\r\n",
      "    Uninstalling scikit-learn-1.2.2:\r\n",
      "      Successfully uninstalled scikit-learn-1.2.2\r\n",
      "  Attempting uninstall: imbalanced-learn\r\n",
      "    Found existing installation: imbalanced-learn 0.13.0\r\n",
      "    Uninstalling imbalanced-learn-0.13.0:\r\n",
      "      Successfully uninstalled imbalanced-learn-0.13.0\r\n",
      "\u001b[31mERROR: pip's dependency resolver does not currently take into account all the packages that are installed. This behaviour is the source of the following dependency conflicts.\r\n",
      "cesium 0.12.4 requires numpy<3.0,>=2.0, but you have numpy 1.26.4 which is incompatible.\u001b[0m\u001b[31m\r\n",
      "\u001b[0mSuccessfully installed imbalanced-learn-0.11.0 scikit-learn-1.3.2\r\n"
     ]
    }
   ],
   "source": [
    "!pip install -U scikit-learn==1.3.2 imbalanced-learn==0.11.0"
   ]
  },
  {
   "cell_type": "code",
   "execution_count": 2,
   "id": "76b01da2",
   "metadata": {
    "_cell_guid": "01fc9db6-6026-4fae-9b78-2244cc68c1f7",
    "_uuid": "91f46249-db6c-4568-ace5-cc5673187aa1",
    "collapsed": false,
    "execution": {
     "iopub.execute_input": "2025-06-04T11:16:48.605525Z",
     "iopub.status.busy": "2025-06-04T11:16:48.605185Z",
     "iopub.status.idle": "2025-06-04T11:17:06.709671Z",
     "shell.execute_reply": "2025-06-04T11:17:06.708395Z"
    },
    "jupyter": {
     "outputs_hidden": false
    },
    "papermill": {
     "duration": 18.113593,
     "end_time": "2025-06-04T11:17:06.711488",
     "exception": false,
     "start_time": "2025-06-04T11:16:48.597895",
     "status": "completed"
    },
    "tags": []
   },
   "outputs": [],
   "source": [
    "# 기본 라이브러리\n",
    "import numpy as np\n",
    "import pandas as pd\n",
    "import matplotlib.pyplot as plt\n",
    "import seaborn as sns\n",
    "import shap\n",
    "import matplotlib\n",
    "import warnings\n",
    "\n",
    "warnings.filterwarnings(action='ignore')\n",
    "\n",
    "# 전처리 및 유틸\n",
    "from sklearn.preprocessing import StandardScaler, MinMaxScaler, LabelEncoder\n",
    "from sklearn.utils.class_weight import compute_class_weight\n",
    "from sklearn.pipeline import Pipeline\n",
    "from imblearn.pipeline import Pipeline\n",
    "from sklearn.base import clone\n",
    "from scipy.stats import mode\n",
    "from imblearn.over_sampling import SMOTE\n",
    "from sklearn.decomposition import PCA\n",
    "from sklearn.manifold import TSNE\n",
    "from sklearn.inspection import permutation_importance\n",
    "from tqdm.notebook import tqdm\n",
    "from sklearn.svm import SVC\n",
    "from imblearn.combine import SMOTETomek\n",
    "from sklearn.preprocessing import StandardScaler\n",
    "from sklearn.model_selection import GridSearchCV\n",
    "from sklearn.manifold import TSNE\n",
    "from sklearn.cluster import KMeans\n",
    "\n",
    "# 모델 평가 / 지표\n",
    "from sklearn.metrics import accuracy_score, f1_score, make_scorer, classification_report, confusion_matrix\n",
    "from sklearn.metrics import roc_auc_score, precision_recall_curve, auc\n",
    "\n",
    "# 데이터 분할 및 교차검증\n",
    "from sklearn.model_selection import train_test_split, StratifiedKFold, RandomizedSearchCV, cross_val_score\n",
    "\n",
    "# 분류 모델\n",
    "from sklearn.ensemble import RandomForestClassifier, GradientBoostingClassifier, VotingClassifier, StackingClassifier, BaggingClassifier\n",
    "from xgboost import XGBClassifier\n",
    "from lightgbm import LGBMClassifier\n",
    "from catboost import CatBoostClassifier\n",
    "from sklearn.linear_model import LogisticRegression"
   ]
  },
  {
   "cell_type": "markdown",
   "id": "ae016e3c",
   "metadata": {
    "_cell_guid": "9151fc72-f62f-448e-bf3c-540198de37b7",
    "_uuid": "5c5bb806-6d0c-4c3b-809e-4e7a91367d7c",
    "collapsed": false,
    "jupyter": {
     "outputs_hidden": false
    },
    "papermill": {
     "duration": 0.005477,
     "end_time": "2025-06-04T11:17:06.723156",
     "exception": false,
     "start_time": "2025-06-04T11:17:06.717679",
     "status": "completed"
    },
    "tags": []
   },
   "source": [
    "# 데이터 불러오기"
   ]
  },
  {
   "cell_type": "code",
   "execution_count": 3,
   "id": "44fd03a0",
   "metadata": {
    "_cell_guid": "24bc5400-535b-448c-9420-786a4d109933",
    "_uuid": "b3fe1c52-eac3-49cf-86e2-30e2ec43263c",
    "collapsed": false,
    "execution": {
     "iopub.execute_input": "2025-06-04T11:17:06.736137Z",
     "iopub.status.busy": "2025-06-04T11:17:06.735356Z",
     "iopub.status.idle": "2025-06-04T11:17:06.815062Z",
     "shell.execute_reply": "2025-06-04T11:17:06.814071Z"
    },
    "jupyter": {
     "outputs_hidden": false
    },
    "papermill": {
     "duration": 0.088046,
     "end_time": "2025-06-04T11:17:06.816849",
     "exception": false,
     "start_time": "2025-06-04T11:17:06.728803",
     "status": "completed"
    },
    "tags": []
   },
   "outputs": [],
   "source": [
    "x_train = pd.read_csv('/kaggle/input/uou-ie-g-03874-spring-2025-term-project/ML_x_train.csv')\n",
    "x_test = pd.read_csv('/kaggle/input/uou-ie-g-03874-spring-2025-term-project/ML_x_test.csv')\n",
    "y_train = pd.read_csv('/kaggle/input/uou-ie-g-03874-spring-2025-term-project/ML_y_train.csv')"
   ]
  },
  {
   "cell_type": "code",
   "execution_count": 4,
   "id": "03dfc36a",
   "metadata": {
    "_cell_guid": "2fdecab2-53f7-4c0a-bf74-cd95692fc60d",
    "_uuid": "6194c93e-a9b1-429f-a1af-c79ae03cb215",
    "collapsed": false,
    "execution": {
     "iopub.execute_input": "2025-06-04T11:17:06.830165Z",
     "iopub.status.busy": "2025-06-04T11:17:06.829821Z",
     "iopub.status.idle": "2025-06-04T11:17:06.843616Z",
     "shell.execute_reply": "2025-06-04T11:17:06.842656Z"
    },
    "jupyter": {
     "outputs_hidden": false
    },
    "papermill": {
     "duration": 0.0227,
     "end_time": "2025-06-04T11:17:06.845388",
     "exception": false,
     "start_time": "2025-06-04T11:17:06.822688",
     "status": "completed"
    },
    "tags": []
   },
   "outputs": [],
   "source": [
    "x_train['is_train'] = 1\n",
    "x_test['is_train'] = 0\n",
    "x = pd.concat([x_train, x_test], ignore_index=True)"
   ]
  },
  {
   "cell_type": "code",
   "execution_count": 5,
   "id": "c1caedd3",
   "metadata": {
    "_cell_guid": "aef5f862-3e89-4117-b345-aa30a88dcd15",
    "_uuid": "bb056be1-4ee3-4c99-9f12-d8f815080cb9",
    "collapsed": false,
    "execution": {
     "iopub.execute_input": "2025-06-04T11:17:06.858390Z",
     "iopub.status.busy": "2025-06-04T11:17:06.857782Z",
     "iopub.status.idle": "2025-06-04T11:17:06.866106Z",
     "shell.execute_reply": "2025-06-04T11:17:06.864904Z"
    },
    "jupyter": {
     "outputs_hidden": false
    },
    "papermill": {
     "duration": 0.016701,
     "end_time": "2025-06-04T11:17:06.867759",
     "exception": false,
     "start_time": "2025-06-04T11:17:06.851058",
     "status": "completed"
    },
    "tags": []
   },
   "outputs": [],
   "source": [
    "# 결측치 처리\n",
    "x['Amount_invested_monthly'].fillna(x['Amount_invested_monthly'].median(), inplace=True)\n",
    "x['Num_of_Loan'].fillna(x['Num_of_Loan'].median(), inplace=True)"
   ]
  },
  {
   "cell_type": "code",
   "execution_count": 6,
   "id": "82521560",
   "metadata": {
    "_cell_guid": "323e1d02-29df-4ade-bb46-b8c49643c6fb",
    "_uuid": "610e86c3-4add-4159-b2ad-690c9c72b72e",
    "collapsed": false,
    "execution": {
     "iopub.execute_input": "2025-06-04T11:17:06.880857Z",
     "iopub.status.busy": "2025-06-04T11:17:06.880484Z",
     "iopub.status.idle": "2025-06-04T11:17:06.906012Z",
     "shell.execute_reply": "2025-06-04T11:17:06.904926Z"
    },
    "jupyter": {
     "outputs_hidden": false
    },
    "papermill": {
     "duration": 0.034068,
     "end_time": "2025-06-04T11:17:06.907826",
     "exception": false,
     "start_time": "2025-06-04T11:17:06.873758",
     "status": "completed"
    },
    "tags": []
   },
   "outputs": [],
   "source": [
    "# 이상치 처리 예시 (하한/상한 클리핑)\n",
    "def clip_outliers(col):\n",
    "    Q1 = x[col].quantile(0.25)\n",
    "    Q3 = x[col].quantile(0.75)\n",
    "    IQR = Q3 - Q1\n",
    "    lower = Q1 - 1.5 * IQR\n",
    "    upper = Q3 + 1.5 * IQR\n",
    "    x[col] = x[col].clip(lower, upper)\n",
    "\n",
    "clip_targets = ['Annual_Income', 'Monthly_Balance', 'Total_EMI_per_month', \n",
    "                'Amount_invested_monthly', 'Outstanding_Debt']\n",
    "\n",
    "for col in clip_targets:\n",
    "    clip_outliers(col)"
   ]
  },
  {
   "cell_type": "code",
   "execution_count": 7,
   "id": "84ae537c",
   "metadata": {
    "_cell_guid": "9a56f747-ad08-43cd-a3a8-1ccd4d5e7716",
    "_uuid": "bcf99f6a-7fc8-43b9-b36a-7174409e46af",
    "collapsed": false,
    "execution": {
     "iopub.execute_input": "2025-06-04T11:17:06.920709Z",
     "iopub.status.busy": "2025-06-04T11:17:06.920319Z",
     "iopub.status.idle": "2025-06-04T11:17:06.937047Z",
     "shell.execute_reply": "2025-06-04T11:17:06.936193Z"
    },
    "jupyter": {
     "outputs_hidden": false
    },
    "papermill": {
     "duration": 0.025275,
     "end_time": "2025-06-04T11:17:06.938750",
     "exception": false,
     "start_time": "2025-06-04T11:17:06.913475",
     "status": "completed"
    },
    "tags": []
   },
   "outputs": [],
   "source": [
    "# 파생 변수 생성\n",
    "x['loan_to_income_ratio'] = x['Total_EMI_per_month'] / (x['Monthly_Inhand_Salary'] + 1)\n",
    "x['debt_to_income_ratio'] = x['Outstanding_Debt'] / (x['Annual_Income'] + 1)\n",
    "x['delayed_ratio'] = x['Num_of_Delayed_Payment'] / (x['Credit_History_Months'] + 1)\n",
    "x['balance_to_emi'] = x['Monthly_Balance'] / (x['Total_EMI_per_month'] + 1)\n",
    "x['salary_to_balance'] = x['Monthly_Inhand_Salary'] / (x['Monthly_Balance'] + 1)"
   ]
  },
  {
   "cell_type": "code",
   "execution_count": 8,
   "id": "e2308fe8",
   "metadata": {
    "_cell_guid": "47a191eb-5cb3-4450-a225-3a2ec12dab1f",
    "_uuid": "759bde07-2246-45d8-8b44-270375d5a281",
    "collapsed": false,
    "execution": {
     "iopub.execute_input": "2025-06-04T11:17:06.951964Z",
     "iopub.status.busy": "2025-06-04T11:17:06.951589Z",
     "iopub.status.idle": "2025-06-04T11:17:06.971564Z",
     "shell.execute_reply": "2025-06-04T11:17:06.970467Z"
    },
    "jupyter": {
     "outputs_hidden": false
    },
    "papermill": {
     "duration": 0.028866,
     "end_time": "2025-06-04T11:17:06.973263",
     "exception": false,
     "start_time": "2025-06-04T11:17:06.944397",
     "status": "completed"
    },
    "tags": []
   },
   "outputs": [],
   "source": [
    "# 데이터 재분할\n",
    "x_train_final = x[x['is_train'] == 1].drop(columns=['is_train'])\n",
    "x_test_final = x[x['is_train'] == 0].drop(columns=['is_train'])"
   ]
  },
  {
   "cell_type": "code",
   "execution_count": 9,
   "id": "4fbe17ac",
   "metadata": {
    "_cell_guid": "d785b9ef-8139-4b6f-8577-caccdbf6807e",
    "_uuid": "6240e9cb-be90-4b5c-81cd-9c36cde1fe46",
    "collapsed": false,
    "execution": {
     "iopub.execute_input": "2025-06-04T11:17:06.985858Z",
     "iopub.status.busy": "2025-06-04T11:17:06.985382Z",
     "iopub.status.idle": "2025-06-04T11:17:06.991138Z",
     "shell.execute_reply": "2025-06-04T11:17:06.990123Z"
    },
    "jupyter": {
     "outputs_hidden": false
    },
    "papermill": {
     "duration": 0.013834,
     "end_time": "2025-06-04T11:17:06.992831",
     "exception": false,
     "start_time": "2025-06-04T11:17:06.978997",
     "status": "completed"
    },
    "tags": []
   },
   "outputs": [
    {
     "name": "stdout",
     "output_type": "stream",
     "text": [
      "Train shape: (9199, 23)\n",
      "Test shape: (2300, 23)\n"
     ]
    }
   ],
   "source": [
    "# 결과 확인\n",
    "print(\"Train shape:\", x_train_final.shape)\n",
    "print(\"Test shape:\", x_test_final.shape)"
   ]
  },
  {
   "cell_type": "code",
   "execution_count": 10,
   "id": "8eb5d14b",
   "metadata": {
    "_cell_guid": "13b89516-9060-4126-aa71-8b4f22c70f1d",
    "_uuid": "ec848942-21b1-4f85-a15d-a523b6fbe77f",
    "collapsed": false,
    "execution": {
     "iopub.execute_input": "2025-06-04T11:17:07.005530Z",
     "iopub.status.busy": "2025-06-04T11:17:07.005182Z",
     "iopub.status.idle": "2025-06-04T11:17:08.031234Z",
     "shell.execute_reply": "2025-06-04T11:17:08.030294Z"
    },
    "jupyter": {
     "outputs_hidden": false
    },
    "papermill": {
     "duration": 1.034362,
     "end_time": "2025-06-04T11:17:08.032856",
     "exception": false,
     "start_time": "2025-06-04T11:17:06.998494",
     "status": "completed"
    },
    "tags": []
   },
   "outputs": [
    {
     "data": {
      "text/html": [
       "<style>#sk-container-id-1 {color: black;}#sk-container-id-1 pre{padding: 0;}#sk-container-id-1 div.sk-toggleable {background-color: white;}#sk-container-id-1 label.sk-toggleable__label {cursor: pointer;display: block;width: 100%;margin-bottom: 0;padding: 0.3em;box-sizing: border-box;text-align: center;}#sk-container-id-1 label.sk-toggleable__label-arrow:before {content: \"▸\";float: left;margin-right: 0.25em;color: #696969;}#sk-container-id-1 label.sk-toggleable__label-arrow:hover:before {color: black;}#sk-container-id-1 div.sk-estimator:hover label.sk-toggleable__label-arrow:before {color: black;}#sk-container-id-1 div.sk-toggleable__content {max-height: 0;max-width: 0;overflow: hidden;text-align: left;background-color: #f0f8ff;}#sk-container-id-1 div.sk-toggleable__content pre {margin: 0.2em;color: black;border-radius: 0.25em;background-color: #f0f8ff;}#sk-container-id-1 input.sk-toggleable__control:checked~div.sk-toggleable__content {max-height: 200px;max-width: 100%;overflow: auto;}#sk-container-id-1 input.sk-toggleable__control:checked~label.sk-toggleable__label-arrow:before {content: \"▾\";}#sk-container-id-1 div.sk-estimator input.sk-toggleable__control:checked~label.sk-toggleable__label {background-color: #d4ebff;}#sk-container-id-1 div.sk-label input.sk-toggleable__control:checked~label.sk-toggleable__label {background-color: #d4ebff;}#sk-container-id-1 input.sk-hidden--visually {border: 0;clip: rect(1px 1px 1px 1px);clip: rect(1px, 1px, 1px, 1px);height: 1px;margin: -1px;overflow: hidden;padding: 0;position: absolute;width: 1px;}#sk-container-id-1 div.sk-estimator {font-family: monospace;background-color: #f0f8ff;border: 1px dotted black;border-radius: 0.25em;box-sizing: border-box;margin-bottom: 0.5em;}#sk-container-id-1 div.sk-estimator:hover {background-color: #d4ebff;}#sk-container-id-1 div.sk-parallel-item::after {content: \"\";width: 100%;border-bottom: 1px solid gray;flex-grow: 1;}#sk-container-id-1 div.sk-label:hover label.sk-toggleable__label {background-color: #d4ebff;}#sk-container-id-1 div.sk-serial::before {content: \"\";position: absolute;border-left: 1px solid gray;box-sizing: border-box;top: 0;bottom: 0;left: 50%;z-index: 0;}#sk-container-id-1 div.sk-serial {display: flex;flex-direction: column;align-items: center;background-color: white;padding-right: 0.2em;padding-left: 0.2em;position: relative;}#sk-container-id-1 div.sk-item {position: relative;z-index: 1;}#sk-container-id-1 div.sk-parallel {display: flex;align-items: stretch;justify-content: center;background-color: white;position: relative;}#sk-container-id-1 div.sk-item::before, #sk-container-id-1 div.sk-parallel-item::before {content: \"\";position: absolute;border-left: 1px solid gray;box-sizing: border-box;top: 0;bottom: 0;left: 50%;z-index: -1;}#sk-container-id-1 div.sk-parallel-item {display: flex;flex-direction: column;z-index: 1;position: relative;background-color: white;}#sk-container-id-1 div.sk-parallel-item:first-child::after {align-self: flex-end;width: 50%;}#sk-container-id-1 div.sk-parallel-item:last-child::after {align-self: flex-start;width: 50%;}#sk-container-id-1 div.sk-parallel-item:only-child::after {width: 0;}#sk-container-id-1 div.sk-dashed-wrapped {border: 1px dashed gray;margin: 0 0.4em 0.5em 0.4em;box-sizing: border-box;padding-bottom: 0.4em;background-color: white;}#sk-container-id-1 div.sk-label label {font-family: monospace;font-weight: bold;display: inline-block;line-height: 1.2em;}#sk-container-id-1 div.sk-label-container {text-align: center;}#sk-container-id-1 div.sk-container {/* jupyter's `normalize.less` sets `[hidden] { display: none; }` but bootstrap.min.css set `[hidden] { display: none !important; }` so we also need the `!important` here to be able to override the default hidden behavior on the sphinx rendered scikit-learn.org. See: https://github.com/scikit-learn/scikit-learn/issues/21755 */display: inline-block !important;position: relative;}#sk-container-id-1 div.sk-text-repr-fallback {display: none;}</style><div id=\"sk-container-id-1\" class=\"sk-top-container\"><div class=\"sk-text-repr-fallback\"><pre>XGBClassifier(base_score=None, booster=None, callbacks=None,\n",
       "              colsample_bylevel=None, colsample_bynode=None,\n",
       "              colsample_bytree=None, device=None, early_stopping_rounds=None,\n",
       "              enable_categorical=False, eval_metric=&#x27;mlogloss&#x27;,\n",
       "              feature_types=None, gamma=None, grow_policy=None,\n",
       "              importance_type=None, interaction_constraints=None,\n",
       "              learning_rate=None, max_bin=None, max_cat_threshold=None,\n",
       "              max_cat_to_onehot=None, max_delta_step=None, max_depth=None,\n",
       "              max_leaves=None, min_child_weight=None, missing=nan,\n",
       "              monotone_constraints=None, multi_strategy=None, n_estimators=None,\n",
       "              n_jobs=None, num_parallel_tree=None, objective=&#x27;multi:softprob&#x27;, ...)</pre><b>In a Jupyter environment, please rerun this cell to show the HTML representation or trust the notebook. <br />On GitHub, the HTML representation is unable to render, please try loading this page with nbviewer.org.</b></div><div class=\"sk-container\" hidden><div class=\"sk-item\"><div class=\"sk-estimator sk-toggleable\"><input class=\"sk-toggleable__control sk-hidden--visually\" id=\"sk-estimator-id-1\" type=\"checkbox\" checked><label for=\"sk-estimator-id-1\" class=\"sk-toggleable__label sk-toggleable__label-arrow\">XGBClassifier</label><div class=\"sk-toggleable__content\"><pre>XGBClassifier(base_score=None, booster=None, callbacks=None,\n",
       "              colsample_bylevel=None, colsample_bynode=None,\n",
       "              colsample_bytree=None, device=None, early_stopping_rounds=None,\n",
       "              enable_categorical=False, eval_metric=&#x27;mlogloss&#x27;,\n",
       "              feature_types=None, gamma=None, grow_policy=None,\n",
       "              importance_type=None, interaction_constraints=None,\n",
       "              learning_rate=None, max_bin=None, max_cat_threshold=None,\n",
       "              max_cat_to_onehot=None, max_delta_step=None, max_depth=None,\n",
       "              max_leaves=None, min_child_weight=None, missing=nan,\n",
       "              monotone_constraints=None, multi_strategy=None, n_estimators=None,\n",
       "              n_jobs=None, num_parallel_tree=None, objective=&#x27;multi:softprob&#x27;, ...)</pre></div></div></div></div></div>"
      ],
      "text/plain": [
       "XGBClassifier(base_score=None, booster=None, callbacks=None,\n",
       "              colsample_bylevel=None, colsample_bynode=None,\n",
       "              colsample_bytree=None, device=None, early_stopping_rounds=None,\n",
       "              enable_categorical=False, eval_metric='mlogloss',\n",
       "              feature_types=None, gamma=None, grow_policy=None,\n",
       "              importance_type=None, interaction_constraints=None,\n",
       "              learning_rate=None, max_bin=None, max_cat_threshold=None,\n",
       "              max_cat_to_onehot=None, max_delta_step=None, max_depth=None,\n",
       "              max_leaves=None, min_child_weight=None, missing=nan,\n",
       "              monotone_constraints=None, multi_strategy=None, n_estimators=None,\n",
       "              n_jobs=None, num_parallel_tree=None, objective='multi:softprob', ...)"
      ]
     },
     "execution_count": 10,
     "metadata": {},
     "output_type": "execute_result"
    }
   ],
   "source": [
    "# 모델 학습\n",
    "xgb_model = XGBClassifier(use_label_encoder=False, eval_metric='mlogloss', random_state=42)\n",
    "xgb_model.fit(x_train_final, y_train.values.ravel())"
   ]
  },
  {
   "cell_type": "code",
   "execution_count": 11,
   "id": "e442be5c",
   "metadata": {
    "_cell_guid": "d4297255-ab03-4103-9b8f-7801c8754636",
    "_uuid": "c619c45e-1541-4ea2-bba8-5a849caa1fec",
    "collapsed": false,
    "execution": {
     "iopub.execute_input": "2025-06-04T11:17:08.045973Z",
     "iopub.status.busy": "2025-06-04T11:17:08.045572Z",
     "iopub.status.idle": "2025-06-04T11:17:25.197961Z",
     "shell.execute_reply": "2025-06-04T11:17:25.196828Z"
    },
    "jupyter": {
     "outputs_hidden": false
    },
    "papermill": {
     "duration": 17.161216,
     "end_time": "2025-06-04T11:17:25.200079",
     "exception": false,
     "start_time": "2025-06-04T11:17:08.038863",
     "status": "completed"
    },
    "tags": []
   },
   "outputs": [],
   "source": [
    "# SHAP 계산\n",
    "explainer = shap.TreeExplainer(xgb_model)\n",
    "shap_values = explainer.shap_values(x_train_final)"
   ]
  },
  {
   "cell_type": "code",
   "execution_count": 12,
   "id": "fc0c0c3a",
   "metadata": {
    "_cell_guid": "cc6c52f2-1595-49df-b4c4-2faafb2dd7c6",
    "_uuid": "3ce3c9ac-f525-4dad-8382-101a4f1b88d3",
    "collapsed": false,
    "execution": {
     "iopub.execute_input": "2025-06-04T11:17:25.214966Z",
     "iopub.status.busy": "2025-06-04T11:17:25.214653Z",
     "iopub.status.idle": "2025-06-04T11:17:25.229761Z",
     "shell.execute_reply": "2025-06-04T11:17:25.228680Z"
    },
    "jupyter": {
     "outputs_hidden": false
    },
    "papermill": {
     "duration": 0.02372,
     "end_time": "2025-06-04T11:17:25.231446",
     "exception": false,
     "start_time": "2025-06-04T11:17:25.207726",
     "status": "completed"
    },
    "tags": []
   },
   "outputs": [
    {
     "name": "stdout",
     "output_type": "stream",
     "text": [
      "중요 변수 TOP 15:\n",
      "                     feature  importance\n",
      "13    Payment_of_Min_Amount    0.213369\n",
      "11         Outstanding_Debt    0.122701\n",
      "6             Interest_Rate    0.079695\n",
      "5           Num_Credit_Card    0.050893\n",
      "8       Delay_from_due_date    0.050409\n",
      "9    Num_of_Delayed_Payment    0.034850\n",
      "4         Num_Bank_Accounts    0.034152\n",
      "20            delayed_ratio    0.033008\n",
      "10     Num_Credit_Inquiries    0.027871\n",
      "17    Credit_History_Months    0.027842\n",
      "21           balance_to_emi    0.027418\n",
      "18     loan_to_income_ratio    0.026736\n",
      "14      Total_EMI_per_month    0.026509\n",
      "15  Amount_invested_monthly    0.025882\n",
      "22        salary_to_balance    0.025881\n"
     ]
    }
   ],
   "source": [
    "# 중요 변수 정리\n",
    "importances = xgb_model.feature_importances_\n",
    "importance_df = pd.DataFrame({'feature': x_train_final.columns, 'importance': importances})\n",
    "top_features = importance_df.sort_values(by='importance', ascending=False).head(15)\n",
    "\n",
    "print(\"중요 변수 TOP 15:\\n\", top_features)"
   ]
  },
  {
   "cell_type": "code",
   "execution_count": 13,
   "id": "1226247a",
   "metadata": {
    "_cell_guid": "c007ab2b-e870-4095-bac8-d221294cabac",
    "_uuid": "971be9fe-a54f-4abe-af1c-59a95c482a44",
    "collapsed": false,
    "execution": {
     "iopub.execute_input": "2025-06-04T11:17:25.245303Z",
     "iopub.status.busy": "2025-06-04T11:17:25.244966Z",
     "iopub.status.idle": "2025-06-04T11:17:25.249822Z",
     "shell.execute_reply": "2025-06-04T11:17:25.248861Z"
    },
    "jupyter": {
     "outputs_hidden": false
    },
    "papermill": {
     "duration": 0.013601,
     "end_time": "2025-06-04T11:17:25.251456",
     "exception": false,
     "start_time": "2025-06-04T11:17:25.237855",
     "status": "completed"
    },
    "tags": []
   },
   "outputs": [],
   "source": [
    "# 상위 15개 피처\n",
    "top15 = [\n",
    "    'Payment_of_Min_Amount', 'Outstanding_Debt', 'Interest_Rate', 'Num_Credit_Card',\n",
    "    'Delay_from_due_date', 'Num_of_Delayed_Payment', 'Num_Bank_Accounts',\n",
    "    'delayed_ratio', 'Num_Credit_Inquiries', 'Credit_History_Months',\n",
    "    'balance_to_emi', 'loan_to_income_ratio', 'Total_EMI_per_month',\n",
    "    'Amount_invested_monthly', 'salary_to_balance'\n",
    "]"
   ]
  },
  {
   "cell_type": "code",
   "execution_count": 14,
   "id": "66fb9431",
   "metadata": {
    "_cell_guid": "e4046532-681b-45cf-91ba-7d3ef52625ee",
    "_uuid": "4d80269a-b176-4eba-8af4-a10dd1fc6c38",
    "collapsed": false,
    "execution": {
     "iopub.execute_input": "2025-06-04T11:17:25.265046Z",
     "iopub.status.busy": "2025-06-04T11:17:25.264675Z",
     "iopub.status.idle": "2025-06-04T11:17:25.279850Z",
     "shell.execute_reply": "2025-06-04T11:17:25.278686Z"
    },
    "jupyter": {
     "outputs_hidden": false
    },
    "papermill": {
     "duration": 0.024285,
     "end_time": "2025-06-04T11:17:25.281971",
     "exception": false,
     "start_time": "2025-06-04T11:17:25.257686",
     "status": "completed"
    },
    "tags": []
   },
   "outputs": [],
   "source": [
    "# 데이터 분할\n",
    "X = x_train_final[top15]\n",
    "X_test = x_test_final[top15]\n",
    "y = y_train['Credit_Score']\n",
    "X_tr, X_val, y_tr, y_val = train_test_split(X, y, test_size=0.2, stratify=y, random_state=42)"
   ]
  },
  {
   "cell_type": "code",
   "execution_count": 15,
   "id": "e6c7cc51",
   "metadata": {
    "_cell_guid": "38dcdd5d-6cd4-482f-b97a-2663a2e57828",
    "_uuid": "9cbd0b31-85f5-4d71-b44d-f5db4ddb3d5c",
    "collapsed": false,
    "execution": {
     "iopub.execute_input": "2025-06-04T11:17:25.295772Z",
     "iopub.status.busy": "2025-06-04T11:17:25.295394Z",
     "iopub.status.idle": "2025-06-04T11:17:25.454867Z",
     "shell.execute_reply": "2025-06-04T11:17:25.454005Z"
    },
    "jupyter": {
     "outputs_hidden": false
    },
    "papermill": {
     "duration": 0.168472,
     "end_time": "2025-06-04T11:17:25.456707",
     "exception": false,
     "start_time": "2025-06-04T11:17:25.288235",
     "status": "completed"
    },
    "tags": []
   },
   "outputs": [],
   "source": [
    "# SMOTE 적용\n",
    "smote = SMOTE(random_state=42)\n",
    "X_tr_resampled, y_tr_resampled = smote.fit_resample(X_tr, y_tr)"
   ]
  },
  {
   "cell_type": "code",
   "execution_count": 16,
   "id": "d00a5164",
   "metadata": {
    "_cell_guid": "cedd7cc6-193e-4d45-afaa-ba4cfaaaa9b5",
    "_uuid": "61d62fe3-d6f9-44d4-b4f3-abbded393ab6",
    "collapsed": false,
    "execution": {
     "iopub.execute_input": "2025-06-04T11:17:25.470025Z",
     "iopub.status.busy": "2025-06-04T11:17:25.469693Z",
     "iopub.status.idle": "2025-06-04T11:17:25.475428Z",
     "shell.execute_reply": "2025-06-04T11:17:25.474702Z"
    },
    "jupyter": {
     "outputs_hidden": false
    },
    "papermill": {
     "duration": 0.013948,
     "end_time": "2025-06-04T11:17:25.476818",
     "exception": false,
     "start_time": "2025-06-04T11:17:25.462870",
     "status": "completed"
    },
    "tags": []
   },
   "outputs": [],
   "source": [
    "# 개별 모델 정의\n",
    "rf_model = RandomForestClassifier(\n",
    "    n_estimators=200,\n",
    "    max_depth=20,\n",
    "    min_samples_split=2,\n",
    "    min_samples_leaf=1,\n",
    "    max_features='log2',\n",
    "    class_weight='balanced',\n",
    "    random_state=42\n",
    ")\n",
    "\n",
    "xgb_model = XGBClassifier(\n",
    "    n_estimators=300,\n",
    "    learning_rate=0.02,\n",
    "    max_depth=5,\n",
    "    subsample=0.7,\n",
    "    colsample_bytree=0.85,\n",
    "    gamma=0,\n",
    "    reg_alpha=0.1,\n",
    "    reg_lambda=1.5,\n",
    "    use_label_encoder=False,\n",
    "    eval_metric='mlogloss',\n",
    "    random_state=42\n",
    ")\n",
    "\n",
    "gb_model = GradientBoostingClassifier(\n",
    "    n_estimators=270,\n",
    "    learning_rate=0.012,\n",
    "    max_depth=6,\n",
    "    subsample=0.6,\n",
    "    random_state=42\n",
    ")"
   ]
  },
  {
   "cell_type": "code",
   "execution_count": 17,
   "id": "c9fc91b9",
   "metadata": {
    "execution": {
     "iopub.execute_input": "2025-06-04T11:17:25.489808Z",
     "iopub.status.busy": "2025-06-04T11:17:25.489392Z",
     "iopub.status.idle": "2025-06-04T11:17:25.494125Z",
     "shell.execute_reply": "2025-06-04T11:17:25.493251Z"
    },
    "papermill": {
     "duration": 0.012863,
     "end_time": "2025-06-04T11:17:25.495564",
     "exception": false,
     "start_time": "2025-06-04T11:17:25.482701",
     "status": "completed"
    },
    "tags": []
   },
   "outputs": [],
   "source": [
    "# Voting Classifier 정의\n",
    "voting_model = VotingClassifier(\n",
    "    estimators=[\n",
    "        ('xgb', xgb_model),\n",
    "        ('rf', rf_model),\n",
    "        ('gb', gb_model)\n",
    "    ],\n",
    "    voting='soft',\n",
    "    n_jobs=-1\n",
    ")"
   ]
  },
  {
   "cell_type": "code",
   "execution_count": 18,
   "id": "88f4646f",
   "metadata": {
    "_cell_guid": "b7e725ec-df17-49ab-8188-2532e86d3205",
    "_uuid": "a3e7ee6f-3d2d-4847-b68d-0a2540351345",
    "collapsed": false,
    "execution": {
     "iopub.execute_input": "2025-06-04T11:17:25.508928Z",
     "iopub.status.busy": "2025-06-04T11:17:25.508587Z",
     "iopub.status.idle": "2025-06-04T11:18:21.882794Z",
     "shell.execute_reply": "2025-06-04T11:18:21.881732Z"
    },
    "jupyter": {
     "outputs_hidden": false
    },
    "papermill": {
     "duration": 56.387835,
     "end_time": "2025-06-04T11:18:21.889664",
     "exception": false,
     "start_time": "2025-06-04T11:17:25.501829",
     "status": "completed"
    },
    "tags": []
   },
   "outputs": [
    {
     "name": "stdout",
     "output_type": "stream",
     "text": [
      "Validation Macro F1 Score: 0.6539157290139981\n",
      "              precision    recall  f1-score   support\n",
      "\n",
      "           0       0.52      0.62      0.56       335\n",
      "           1       0.66      0.75      0.70       534\n",
      "           2       0.75      0.64      0.70       971\n",
      "\n",
      "    accuracy                           0.67      1840\n",
      "   macro avg       0.64      0.67      0.65      1840\n",
      "weighted avg       0.68      0.67      0.67      1840\n",
      "\n"
     ]
    }
   ],
   "source": [
    "# 학습\n",
    "voting_model.fit(X_tr_resampled, y_tr_resampled)\n",
    "\n",
    "# 검증 평가\n",
    "val_pred = voting_model.predict(X_val)\n",
    "val_f1 = f1_score(y_val, val_pred, average='macro')\n",
    "print(\"Validation Macro F1 Score:\", val_f1)\n",
    "print(classification_report(y_val, val_pred))"
   ]
  },
  {
   "cell_type": "code",
   "execution_count": 19,
   "id": "b402ca12",
   "metadata": {
    "_cell_guid": "6a398b0a-096a-4dd9-a0d3-e0d90b7ced1b",
    "_uuid": "075aa63e-4a21-47a0-83a3-19fd5e60e9bb",
    "collapsed": false,
    "execution": {
     "iopub.execute_input": "2025-06-04T11:18:21.903241Z",
     "iopub.status.busy": "2025-06-04T11:18:21.902879Z",
     "iopub.status.idle": "2025-06-04T11:18:22.135647Z",
     "shell.execute_reply": "2025-06-04T11:18:22.134837Z"
    },
    "jupyter": {
     "outputs_hidden": false
    },
    "papermill": {
     "duration": 0.24173,
     "end_time": "2025-06-04T11:18:22.137432",
     "exception": false,
     "start_time": "2025-06-04T11:18:21.895702",
     "status": "completed"
    },
    "tags": []
   },
   "outputs": [],
   "source": [
    "# 학습에 사용한 Feature Column 목록\n",
    "selected_features = X.columns.tolist()  # e.g., ['Payment_of_Min_Amount', 'Outstanding_Debt', ...]\n",
    "\n",
    "# 예측용 데이터에서도 동일하게 맞춰서 정렬\n",
    "x_test_selected = x_test_final[selected_features]\n",
    "\n",
    "# 예측 수행\n",
    "pred_test = voting_model.predict(x_test_selected)"
   ]
  },
  {
   "cell_type": "code",
   "execution_count": 20,
   "id": "bba3ffdf",
   "metadata": {
    "_cell_guid": "534a9344-6427-45ef-a310-43460b778d77",
    "_uuid": "e171b2b4-88cb-4dc9-a798-552f7e1b9519",
    "collapsed": false,
    "execution": {
     "iopub.execute_input": "2025-06-04T11:18:22.150862Z",
     "iopub.status.busy": "2025-06-04T11:18:22.150497Z",
     "iopub.status.idle": "2025-06-04T11:18:22.171836Z",
     "shell.execute_reply": "2025-06-04T11:18:22.170956Z"
    },
    "jupyter": {
     "outputs_hidden": false
    },
    "papermill": {
     "duration": 0.029878,
     "end_time": "2025-06-04T11:18:22.173454",
     "exception": false,
     "start_time": "2025-06-04T11:18:22.143576",
     "status": "completed"
    },
    "tags": []
   },
   "outputs": [],
   "source": [
    "# 제출 파일 생성\n",
    "submission = pd.read_csv('/kaggle/input/uou-ie-g-03874-spring-2025-term-project/ML_sample_submission.csv')\n",
    "submission['Credit_Score'] = pred_test\n",
    "submission.to_csv('submission.csv', index=False)"
   ]
  }
 ],
 "metadata": {
  "kaggle": {
   "accelerator": "none",
   "dataSources": [
    {
     "databundleVersionId": 12220852,
     "sourceId": 101385,
     "sourceType": "competition"
    }
   ],
   "isGpuEnabled": false,
   "isInternetEnabled": true,
   "language": "python",
   "sourceType": "notebook"
  },
  "kernelspec": {
   "display_name": "Python 3",
   "language": "python",
   "name": "python3"
  },
  "language_info": {
   "codemirror_mode": {
    "name": "ipython",
    "version": 3
   },
   "file_extension": ".py",
   "mimetype": "text/x-python",
   "name": "python",
   "nbconvert_exporter": "python",
   "pygments_lexer": "ipython3",
   "version": "3.11.11"
  },
  "papermill": {
   "default_parameters": {},
   "duration": 111.268263,
   "end_time": "2025-06-04T11:18:24.900298",
   "environment_variables": {},
   "exception": null,
   "input_path": "__notebook__.ipynb",
   "output_path": "__notebook__.ipynb",
   "parameters": {},
   "start_time": "2025-06-04T11:16:33.632035",
   "version": "2.6.0"
  }
 },
 "nbformat": 4,
 "nbformat_minor": 5
}
