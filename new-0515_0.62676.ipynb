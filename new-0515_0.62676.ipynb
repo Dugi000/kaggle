{
 "cells": [
  {
   "cell_type": "markdown",
   "id": "e1f9802a",
   "metadata": {
    "_cell_guid": "ea90bdd7-8e46-4ecb-9ec3-749b78076727",
    "_uuid": "caf04c51-cfee-46e8-9120-992549e7b47a",
    "collapsed": false,
    "jupyter": {
     "outputs_hidden": false
    },
    "papermill": {
     "duration": 0.005586,
     "end_time": "2025-06-04T12:55:35.083228",
     "exception": false,
     "start_time": "2025-06-04T12:55:35.077642",
     "status": "completed"
    },
    "tags": []
   },
   "source": [
    "# 라이브러리"
   ]
  },
  {
   "cell_type": "code",
   "execution_count": 1,
   "id": "e78f812d",
   "metadata": {
    "_cell_guid": "ef13d98c-0bd8-4ca6-9736-06244bd7dcf3",
    "_uuid": "5df079f3-c46b-4593-a656-4038f25387b5",
    "collapsed": false,
    "execution": {
     "iopub.execute_input": "2025-06-04T12:55:35.094162Z",
     "iopub.status.busy": "2025-06-04T12:55:35.093815Z",
     "iopub.status.idle": "2025-06-04T12:55:45.837324Z",
     "shell.execute_reply": "2025-06-04T12:55:45.836360Z"
    },
    "jupyter": {
     "outputs_hidden": false
    },
    "papermill": {
     "duration": 10.751281,
     "end_time": "2025-06-04T12:55:45.839298",
     "exception": false,
     "start_time": "2025-06-04T12:55:35.088017",
     "status": "completed"
    },
    "tags": []
   },
   "outputs": [
    {
     "name": "stdout",
     "output_type": "stream",
     "text": [
      "Collecting scikit-learn==1.3.2\r\n",
      "  Downloading scikit_learn-1.3.2-cp311-cp311-manylinux_2_17_x86_64.manylinux2014_x86_64.whl.metadata (11 kB)\r\n",
      "Collecting imbalanced-learn==0.11.0\r\n",
      "  Downloading imbalanced_learn-0.11.0-py3-none-any.whl.metadata (8.3 kB)\r\n",
      "Requirement already satisfied: numpy<2.0,>=1.17.3 in /usr/local/lib/python3.11/dist-packages (from scikit-learn==1.3.2) (1.26.4)\r\n",
      "Requirement already satisfied: scipy>=1.5.0 in /usr/local/lib/python3.11/dist-packages (from scikit-learn==1.3.2) (1.15.2)\r\n",
      "Requirement already satisfied: joblib>=1.1.1 in /usr/local/lib/python3.11/dist-packages (from scikit-learn==1.3.2) (1.5.0)\r\n",
      "Requirement already satisfied: threadpoolctl>=2.0.0 in /usr/local/lib/python3.11/dist-packages (from scikit-learn==1.3.2) (3.6.0)\r\n",
      "Requirement already satisfied: mkl_fft in /usr/local/lib/python3.11/dist-packages (from numpy<2.0,>=1.17.3->scikit-learn==1.3.2) (1.3.8)\r\n",
      "Requirement already satisfied: mkl_random in /usr/local/lib/python3.11/dist-packages (from numpy<2.0,>=1.17.3->scikit-learn==1.3.2) (1.2.4)\r\n",
      "Requirement already satisfied: mkl_umath in /usr/local/lib/python3.11/dist-packages (from numpy<2.0,>=1.17.3->scikit-learn==1.3.2) (0.1.1)\r\n",
      "Requirement already satisfied: mkl in /usr/local/lib/python3.11/dist-packages (from numpy<2.0,>=1.17.3->scikit-learn==1.3.2) (2025.1.0)\r\n",
      "Requirement already satisfied: tbb4py in /usr/local/lib/python3.11/dist-packages (from numpy<2.0,>=1.17.3->scikit-learn==1.3.2) (2022.1.0)\r\n",
      "Requirement already satisfied: mkl-service in /usr/local/lib/python3.11/dist-packages (from numpy<2.0,>=1.17.3->scikit-learn==1.3.2) (2.4.1)\r\n",
      "Requirement already satisfied: intel-openmp<2026,>=2024 in /usr/local/lib/python3.11/dist-packages (from mkl->numpy<2.0,>=1.17.3->scikit-learn==1.3.2) (2024.2.0)\r\n",
      "Requirement already satisfied: tbb==2022.* in /usr/local/lib/python3.11/dist-packages (from mkl->numpy<2.0,>=1.17.3->scikit-learn==1.3.2) (2022.1.0)\r\n",
      "Requirement already satisfied: tcmlib==1.* in /usr/local/lib/python3.11/dist-packages (from tbb==2022.*->mkl->numpy<2.0,>=1.17.3->scikit-learn==1.3.2) (1.3.0)\r\n",
      "Requirement already satisfied: intel-cmplr-lib-rt in /usr/local/lib/python3.11/dist-packages (from mkl_umath->numpy<2.0,>=1.17.3->scikit-learn==1.3.2) (2024.2.0)\r\n",
      "Requirement already satisfied: intel-cmplr-lib-ur==2024.2.0 in /usr/local/lib/python3.11/dist-packages (from intel-openmp<2026,>=2024->mkl->numpy<2.0,>=1.17.3->scikit-learn==1.3.2) (2024.2.0)\r\n",
      "Downloading scikit_learn-1.3.2-cp311-cp311-manylinux_2_17_x86_64.manylinux2014_x86_64.whl (10.9 MB)\r\n",
      "\u001b[2K   \u001b[90m━━━━━━━━━━━━━━━━━━━━━━━━━━━━━━━━━━━━━━━━\u001b[0m \u001b[32m10.9/10.9 MB\u001b[0m \u001b[31m85.8 MB/s\u001b[0m eta \u001b[36m0:00:00\u001b[0m\r\n",
      "\u001b[?25hDownloading imbalanced_learn-0.11.0-py3-none-any.whl (235 kB)\r\n",
      "\u001b[2K   \u001b[90m━━━━━━━━━━━━━━━━━━━━━━━━━━━━━━━━━━━━━━━━\u001b[0m \u001b[32m235.6/235.6 kB\u001b[0m \u001b[31m11.6 MB/s\u001b[0m eta \u001b[36m0:00:00\u001b[0m\r\n",
      "\u001b[?25hInstalling collected packages: scikit-learn, imbalanced-learn\r\n",
      "  Attempting uninstall: scikit-learn\r\n",
      "    Found existing installation: scikit-learn 1.2.2\r\n",
      "    Uninstalling scikit-learn-1.2.2:\r\n",
      "      Successfully uninstalled scikit-learn-1.2.2\r\n",
      "  Attempting uninstall: imbalanced-learn\r\n",
      "    Found existing installation: imbalanced-learn 0.13.0\r\n",
      "    Uninstalling imbalanced-learn-0.13.0:\r\n",
      "      Successfully uninstalled imbalanced-learn-0.13.0\r\n",
      "\u001b[31mERROR: pip's dependency resolver does not currently take into account all the packages that are installed. This behaviour is the source of the following dependency conflicts.\r\n",
      "cesium 0.12.4 requires numpy<3.0,>=2.0, but you have numpy 1.26.4 which is incompatible.\u001b[0m\u001b[31m\r\n",
      "\u001b[0mSuccessfully installed imbalanced-learn-0.11.0 scikit-learn-1.3.2\r\n"
     ]
    }
   ],
   "source": [
    "!pip install -U scikit-learn==1.3.2 imbalanced-learn==0.11.0"
   ]
  },
  {
   "cell_type": "code",
   "execution_count": 2,
   "id": "82cd2d4b",
   "metadata": {
    "_cell_guid": "bd0bcf9a-4d6b-4ad1-8cfd-24e4a74fc57d",
    "_uuid": "8bc90a16-82c7-4344-89ad-f35f2bf3032b",
    "collapsed": false,
    "execution": {
     "iopub.execute_input": "2025-06-04T12:55:45.852149Z",
     "iopub.status.busy": "2025-06-04T12:55:45.851803Z",
     "iopub.status.idle": "2025-06-04T12:56:04.750899Z",
     "shell.execute_reply": "2025-06-04T12:56:04.750049Z"
    },
    "jupyter": {
     "outputs_hidden": false
    },
    "papermill": {
     "duration": 18.907675,
     "end_time": "2025-06-04T12:56:04.752790",
     "exception": false,
     "start_time": "2025-06-04T12:55:45.845115",
     "status": "completed"
    },
    "tags": []
   },
   "outputs": [],
   "source": [
    "# 기본 라이브러리\n",
    "import numpy as np\n",
    "import pandas as pd\n",
    "import matplotlib.pyplot as plt\n",
    "import seaborn as sns\n",
    "import shap\n",
    "import matplotlib\n",
    "import warnings\n",
    "\n",
    "warnings.filterwarnings(action='ignore')\n",
    "\n",
    "# 전처리 및 유틸\n",
    "from sklearn.preprocessing import StandardScaler, MinMaxScaler, LabelEncoder\n",
    "from sklearn.utils.class_weight import compute_class_weight\n",
    "from sklearn.pipeline import Pipeline\n",
    "from imblearn.pipeline import Pipeline\n",
    "from sklearn.base import clone\n",
    "from scipy.stats import mode\n",
    "from imblearn.over_sampling import SMOTE\n",
    "from sklearn.decomposition import PCA\n",
    "from sklearn.manifold import TSNE\n",
    "from sklearn.inspection import permutation_importance\n",
    "from tqdm.notebook import tqdm\n",
    "from sklearn.svm import SVC\n",
    "from imblearn.combine import SMOTETomek\n",
    "from sklearn.preprocessing import StandardScaler\n",
    "from sklearn.model_selection import GridSearchCV\n",
    "from sklearn.manifold import TSNE\n",
    "from sklearn.cluster import KMeans\n",
    "\n",
    "# 모델 평가 / 지표\n",
    "from sklearn.metrics import accuracy_score, f1_score, make_scorer, classification_report, confusion_matrix\n",
    "from sklearn.metrics import roc_auc_score, precision_recall_curve, auc\n",
    "\n",
    "# 데이터 분할 및 교차검증\n",
    "from sklearn.model_selection import train_test_split, StratifiedKFold, RandomizedSearchCV, cross_val_score\n",
    "\n",
    "# 분류 모델\n",
    "from sklearn.ensemble import RandomForestClassifier, GradientBoostingClassifier, VotingClassifier, StackingClassifier, BaggingClassifier\n",
    "from xgboost import XGBClassifier\n",
    "from lightgbm import LGBMClassifier\n",
    "from catboost import CatBoostClassifier\n",
    "from sklearn.linear_model import LogisticRegression"
   ]
  },
  {
   "cell_type": "markdown",
   "id": "e8826564",
   "metadata": {
    "_cell_guid": "caf87449-8704-4020-bef8-0b536ede6af9",
    "_uuid": "4c68c803-66b6-4545-8720-941910acfe0c",
    "collapsed": false,
    "jupyter": {
     "outputs_hidden": false
    },
    "papermill": {
     "duration": 0.005421,
     "end_time": "2025-06-04T12:56:04.764070",
     "exception": false,
     "start_time": "2025-06-04T12:56:04.758649",
     "status": "completed"
    },
    "tags": []
   },
   "source": [
    "# 데이터 불러오기"
   ]
  },
  {
   "cell_type": "code",
   "execution_count": 3,
   "id": "0e9d56e8",
   "metadata": {
    "_cell_guid": "5780be65-5edf-43aa-9f14-9d50220e0e28",
    "_uuid": "afa382e1-03c4-49cc-8d98-70f3ad6cee47",
    "collapsed": false,
    "execution": {
     "iopub.execute_input": "2025-06-04T12:56:04.776867Z",
     "iopub.status.busy": "2025-06-04T12:56:04.776120Z",
     "iopub.status.idle": "2025-06-04T12:56:04.848061Z",
     "shell.execute_reply": "2025-06-04T12:56:04.847077Z"
    },
    "jupyter": {
     "outputs_hidden": false
    },
    "papermill": {
     "duration": 0.080276,
     "end_time": "2025-06-04T12:56:04.849865",
     "exception": false,
     "start_time": "2025-06-04T12:56:04.769589",
     "status": "completed"
    },
    "tags": []
   },
   "outputs": [],
   "source": [
    "x_train = pd.read_csv('/kaggle/input/uou-ie-g-03874-spring-2025-term-project/ML_x_train.csv')\n",
    "x_test = pd.read_csv('/kaggle/input/uou-ie-g-03874-spring-2025-term-project/ML_x_test.csv')\n",
    "y_train = pd.read_csv('/kaggle/input/uou-ie-g-03874-spring-2025-term-project/ML_y_train.csv')"
   ]
  },
  {
   "cell_type": "code",
   "execution_count": 4,
   "id": "bd3ebf7a",
   "metadata": {
    "_cell_guid": "c594a3e1-abb0-492e-bd49-06e1530cc2e7",
    "_uuid": "1c6c1ba6-c754-4af6-b4df-6eaf87fe4d6d",
    "collapsed": false,
    "execution": {
     "iopub.execute_input": "2025-06-04T12:56:04.862765Z",
     "iopub.status.busy": "2025-06-04T12:56:04.862469Z",
     "iopub.status.idle": "2025-06-04T12:56:04.874964Z",
     "shell.execute_reply": "2025-06-04T12:56:04.874041Z"
    },
    "jupyter": {
     "outputs_hidden": false
    },
    "papermill": {
     "duration": 0.020691,
     "end_time": "2025-06-04T12:56:04.876787",
     "exception": false,
     "start_time": "2025-06-04T12:56:04.856096",
     "status": "completed"
    },
    "tags": []
   },
   "outputs": [],
   "source": [
    "x_train['is_train'] = 1\n",
    "x_test['is_train'] = 0\n",
    "x = pd.concat([x_train, x_test], ignore_index=True)"
   ]
  },
  {
   "cell_type": "code",
   "execution_count": 5,
   "id": "eec701dc",
   "metadata": {
    "_cell_guid": "8d11827d-60bf-4264-bade-a02ec9be3501",
    "_uuid": "dadd6d3b-152b-4bac-a197-010a0625e4cf",
    "collapsed": false,
    "execution": {
     "iopub.execute_input": "2025-06-04T12:56:04.889611Z",
     "iopub.status.busy": "2025-06-04T12:56:04.888686Z",
     "iopub.status.idle": "2025-06-04T12:56:04.894965Z",
     "shell.execute_reply": "2025-06-04T12:56:04.894194Z"
    },
    "jupyter": {
     "outputs_hidden": false
    },
    "papermill": {
     "duration": 0.01393,
     "end_time": "2025-06-04T12:56:04.896275",
     "exception": false,
     "start_time": "2025-06-04T12:56:04.882345",
     "status": "completed"
    },
    "tags": []
   },
   "outputs": [],
   "source": [
    "# 결측치 처리\n",
    "x['Amount_invested_monthly'].fillna(x['Amount_invested_monthly'].median(), inplace=True)\n",
    "x['Num_of_Loan'].fillna(x['Num_of_Loan'].median(), inplace=True)"
   ]
  },
  {
   "cell_type": "code",
   "execution_count": 6,
   "id": "bec9995a",
   "metadata": {
    "_cell_guid": "53e5a4e9-1969-4e18-906f-13daa8a0f636",
    "_uuid": "514d8288-8dbb-45eb-aca6-a854cca5070e",
    "collapsed": false,
    "execution": {
     "iopub.execute_input": "2025-06-04T12:56:04.908599Z",
     "iopub.status.busy": "2025-06-04T12:56:04.908271Z",
     "iopub.status.idle": "2025-06-04T12:56:04.933743Z",
     "shell.execute_reply": "2025-06-04T12:56:04.932959Z"
    },
    "jupyter": {
     "outputs_hidden": false
    },
    "papermill": {
     "duration": 0.033491,
     "end_time": "2025-06-04T12:56:04.935314",
     "exception": false,
     "start_time": "2025-06-04T12:56:04.901823",
     "status": "completed"
    },
    "tags": []
   },
   "outputs": [],
   "source": [
    "# 이상치 처리 예시 (하한/상한 클리핑)\n",
    "def clip_outliers(col):\n",
    "    Q1 = x[col].quantile(0.25)\n",
    "    Q3 = x[col].quantile(0.75)\n",
    "    IQR = Q3 - Q1\n",
    "    lower = Q1 - 1.5 * IQR\n",
    "    upper = Q3 + 1.5 * IQR\n",
    "    x[col] = x[col].clip(lower, upper)\n",
    "\n",
    "clip_targets = ['Annual_Income', 'Monthly_Balance', 'Total_EMI_per_month', \n",
    "                'Amount_invested_monthly', 'Outstanding_Debt']\n",
    "\n",
    "for col in clip_targets:\n",
    "    clip_outliers(col)"
   ]
  },
  {
   "cell_type": "code",
   "execution_count": 7,
   "id": "5308b5f1",
   "metadata": {
    "_cell_guid": "07458f4a-f3eb-4166-be02-23af6a6ee38a",
    "_uuid": "3ebcd937-d64d-47d7-bae7-8ba8827da3a5",
    "collapsed": false,
    "execution": {
     "iopub.execute_input": "2025-06-04T12:56:04.948080Z",
     "iopub.status.busy": "2025-06-04T12:56:04.947737Z",
     "iopub.status.idle": "2025-06-04T12:56:04.977475Z",
     "shell.execute_reply": "2025-06-04T12:56:04.976712Z"
    },
    "jupyter": {
     "outputs_hidden": false
    },
    "papermill": {
     "duration": 0.037789,
     "end_time": "2025-06-04T12:56:04.978994",
     "exception": false,
     "start_time": "2025-06-04T12:56:04.941205",
     "status": "completed"
    },
    "tags": []
   },
   "outputs": [],
   "source": [
    "# 파생 변수 생성\n",
    "x['loan_to_income_ratio'] = x['Total_EMI_per_month'] / (x['Monthly_Inhand_Salary'] + 1)\n",
    "x['delayed_ratio'] = x['Num_of_Delayed_Payment'] / (x['Credit_History_Months'] + 1)\n",
    "x['balance_to_emi'] = x['Monthly_Balance'] / (x['Total_EMI_per_month'] + 1)\n",
    "x['salary_to_balance'] = x['Monthly_Inhand_Salary'] / (x['Monthly_Balance'] + 1)\n",
    "\n",
    "x['Potential_Underconsumer'] = (\n",
    "    (x['Outstanding_Debt'] < 1000) & \n",
    "    (x['Num_Credit_Card'] <= 2) & \n",
    "    (x['Num_Bank_Accounts'] <= 2)\n",
    ").astype(int)\n",
    "\n",
    "x['High_Delay_Risk'] = (\n",
    "    (x['delayed_ratio'] > 0.2) & \n",
    "    (x['Delay_from_due_date'] > 20)\n",
    ").astype(int)\n",
    "\n",
    "x['LowDebtButMisclassified'] = (\n",
    "    (x['Outstanding_Debt'] < 1000) & \n",
    "    (x['loan_to_income_ratio'] < 0.05)\n",
    ").astype(int)\n",
    "\n",
    "x['Over_Active_Low_Debt'] = ((x['Num_Credit_Card'] >= 5) & (x['Outstanding_Debt'] < 1000)).astype(int)"
   ]
  },
  {
   "cell_type": "code",
   "execution_count": 8,
   "id": "9ed83975",
   "metadata": {
    "execution": {
     "iopub.execute_input": "2025-06-04T12:56:04.992142Z",
     "iopub.status.busy": "2025-06-04T12:56:04.991767Z",
     "iopub.status.idle": "2025-06-04T12:56:05.019996Z",
     "shell.execute_reply": "2025-06-04T12:56:05.018902Z"
    },
    "papermill": {
     "duration": 0.037384,
     "end_time": "2025-06-04T12:56:05.021886",
     "exception": false,
     "start_time": "2025-06-04T12:56:04.984502",
     "status": "completed"
    },
    "tags": []
   },
   "outputs": [],
   "source": [
    "# 타겟 인코딩 (Occupation, Payment_of_Min_Amount)\n",
    "# Occupation 인코딩\n",
    "occ_map = pd.concat([x, y_train], axis=1).groupby('Occupation')['Credit_Score'].mean()\n",
    "x['Occupation_encoded'] = x['Occupation'].map(occ_map)\n",
    "x['Occupation_encoded'].fillna(occ_map.mean(), inplace=True)\n",
    "\n",
    "# Payment_of_Min_Amount 인코딩\n",
    "pay_map = pd.concat([x, y_train], axis=1).groupby('Payment_of_Min_Amount')['Credit_Score'].mean()\n",
    "x['Payment_encoded'] = x['Payment_of_Min_Amount'].map(pay_map)\n",
    "x['Payment_encoded'].fillna(pay_map.mean(), inplace=True)"
   ]
  },
  {
   "cell_type": "code",
   "execution_count": 9,
   "id": "da79cb22",
   "metadata": {
    "execution": {
     "iopub.execute_input": "2025-06-04T12:56:05.034376Z",
     "iopub.status.busy": "2025-06-04T12:56:05.034053Z",
     "iopub.status.idle": "2025-06-04T12:56:05.043114Z",
     "shell.execute_reply": "2025-06-04T12:56:05.042290Z"
    },
    "papermill": {
     "duration": 0.017175,
     "end_time": "2025-06-04T12:56:05.044743",
     "exception": false,
     "start_time": "2025-06-04T12:56:05.027568",
     "status": "completed"
    },
    "tags": []
   },
   "outputs": [],
   "source": [
    "# 원본 범주형 변수 제거\n",
    "x.drop(columns=['Occupation', 'Payment_of_Min_Amount'], inplace=True)"
   ]
  },
  {
   "cell_type": "code",
   "execution_count": 10,
   "id": "96ba85a7",
   "metadata": {
    "_cell_guid": "8f61cb88-19c4-4c23-bd47-6bebf7ed523e",
    "_uuid": "ae68a7c7-10bc-44dc-8c7d-8c2b28434b1e",
    "collapsed": false,
    "execution": {
     "iopub.execute_input": "2025-06-04T12:56:05.057709Z",
     "iopub.status.busy": "2025-06-04T12:56:05.057386Z",
     "iopub.status.idle": "2025-06-04T12:56:05.069889Z",
     "shell.execute_reply": "2025-06-04T12:56:05.069151Z"
    },
    "jupyter": {
     "outputs_hidden": false
    },
    "papermill": {
     "duration": 0.020657,
     "end_time": "2025-06-04T12:56:05.071445",
     "exception": false,
     "start_time": "2025-06-04T12:56:05.050788",
     "status": "completed"
    },
    "tags": []
   },
   "outputs": [],
   "source": [
    "# 데이터 재분할\n",
    "x_train_final = x[x['is_train'] == 1].drop(columns=['is_train'])\n",
    "x_test_final = x[x['is_train'] == 0].drop(columns=['is_train'])"
   ]
  },
  {
   "cell_type": "code",
   "execution_count": 11,
   "id": "04173b0e",
   "metadata": {
    "_cell_guid": "9571d4f4-f0c2-4db6-b3e5-9a595cc96976",
    "_uuid": "2a641b66-586d-4199-bc67-b8f3d829e0c9",
    "collapsed": false,
    "execution": {
     "iopub.execute_input": "2025-06-04T12:56:05.083700Z",
     "iopub.status.busy": "2025-06-04T12:56:05.083365Z",
     "iopub.status.idle": "2025-06-04T12:56:05.088805Z",
     "shell.execute_reply": "2025-06-04T12:56:05.087514Z"
    },
    "jupyter": {
     "outputs_hidden": false
    },
    "papermill": {
     "duration": 0.013418,
     "end_time": "2025-06-04T12:56:05.090485",
     "exception": false,
     "start_time": "2025-06-04T12:56:05.077067",
     "status": "completed"
    },
    "tags": []
   },
   "outputs": [
    {
     "name": "stdout",
     "output_type": "stream",
     "text": [
      "Train shape: (9199, 26)\n",
      "Test shape: (2300, 26)\n"
     ]
    }
   ],
   "source": [
    "# 결과 확인\n",
    "print(\"Train shape:\", x_train_final.shape)\n",
    "print(\"Test shape:\", x_test_final.shape)"
   ]
  },
  {
   "cell_type": "code",
   "execution_count": 12,
   "id": "54a07e12",
   "metadata": {
    "_cell_guid": "984a931b-b07e-41b3-8eb6-e7fe5d71baf4",
    "_uuid": "33ef1a3b-7fc3-4e2d-bea4-faf9b1b49af8",
    "collapsed": false,
    "execution": {
     "iopub.execute_input": "2025-06-04T12:56:05.103412Z",
     "iopub.status.busy": "2025-06-04T12:56:05.102539Z",
     "iopub.status.idle": "2025-06-04T12:56:06.044822Z",
     "shell.execute_reply": "2025-06-04T12:56:06.043875Z"
    },
    "jupyter": {
     "outputs_hidden": false
    },
    "papermill": {
     "duration": 0.950285,
     "end_time": "2025-06-04T12:56:06.046334",
     "exception": false,
     "start_time": "2025-06-04T12:56:05.096049",
     "status": "completed"
    },
    "tags": []
   },
   "outputs": [
    {
     "data": {
      "text/html": [
       "<style>#sk-container-id-1 {color: black;}#sk-container-id-1 pre{padding: 0;}#sk-container-id-1 div.sk-toggleable {background-color: white;}#sk-container-id-1 label.sk-toggleable__label {cursor: pointer;display: block;width: 100%;margin-bottom: 0;padding: 0.3em;box-sizing: border-box;text-align: center;}#sk-container-id-1 label.sk-toggleable__label-arrow:before {content: \"▸\";float: left;margin-right: 0.25em;color: #696969;}#sk-container-id-1 label.sk-toggleable__label-arrow:hover:before {color: black;}#sk-container-id-1 div.sk-estimator:hover label.sk-toggleable__label-arrow:before {color: black;}#sk-container-id-1 div.sk-toggleable__content {max-height: 0;max-width: 0;overflow: hidden;text-align: left;background-color: #f0f8ff;}#sk-container-id-1 div.sk-toggleable__content pre {margin: 0.2em;color: black;border-radius: 0.25em;background-color: #f0f8ff;}#sk-container-id-1 input.sk-toggleable__control:checked~div.sk-toggleable__content {max-height: 200px;max-width: 100%;overflow: auto;}#sk-container-id-1 input.sk-toggleable__control:checked~label.sk-toggleable__label-arrow:before {content: \"▾\";}#sk-container-id-1 div.sk-estimator input.sk-toggleable__control:checked~label.sk-toggleable__label {background-color: #d4ebff;}#sk-container-id-1 div.sk-label input.sk-toggleable__control:checked~label.sk-toggleable__label {background-color: #d4ebff;}#sk-container-id-1 input.sk-hidden--visually {border: 0;clip: rect(1px 1px 1px 1px);clip: rect(1px, 1px, 1px, 1px);height: 1px;margin: -1px;overflow: hidden;padding: 0;position: absolute;width: 1px;}#sk-container-id-1 div.sk-estimator {font-family: monospace;background-color: #f0f8ff;border: 1px dotted black;border-radius: 0.25em;box-sizing: border-box;margin-bottom: 0.5em;}#sk-container-id-1 div.sk-estimator:hover {background-color: #d4ebff;}#sk-container-id-1 div.sk-parallel-item::after {content: \"\";width: 100%;border-bottom: 1px solid gray;flex-grow: 1;}#sk-container-id-1 div.sk-label:hover label.sk-toggleable__label {background-color: #d4ebff;}#sk-container-id-1 div.sk-serial::before {content: \"\";position: absolute;border-left: 1px solid gray;box-sizing: border-box;top: 0;bottom: 0;left: 50%;z-index: 0;}#sk-container-id-1 div.sk-serial {display: flex;flex-direction: column;align-items: center;background-color: white;padding-right: 0.2em;padding-left: 0.2em;position: relative;}#sk-container-id-1 div.sk-item {position: relative;z-index: 1;}#sk-container-id-1 div.sk-parallel {display: flex;align-items: stretch;justify-content: center;background-color: white;position: relative;}#sk-container-id-1 div.sk-item::before, #sk-container-id-1 div.sk-parallel-item::before {content: \"\";position: absolute;border-left: 1px solid gray;box-sizing: border-box;top: 0;bottom: 0;left: 50%;z-index: -1;}#sk-container-id-1 div.sk-parallel-item {display: flex;flex-direction: column;z-index: 1;position: relative;background-color: white;}#sk-container-id-1 div.sk-parallel-item:first-child::after {align-self: flex-end;width: 50%;}#sk-container-id-1 div.sk-parallel-item:last-child::after {align-self: flex-start;width: 50%;}#sk-container-id-1 div.sk-parallel-item:only-child::after {width: 0;}#sk-container-id-1 div.sk-dashed-wrapped {border: 1px dashed gray;margin: 0 0.4em 0.5em 0.4em;box-sizing: border-box;padding-bottom: 0.4em;background-color: white;}#sk-container-id-1 div.sk-label label {font-family: monospace;font-weight: bold;display: inline-block;line-height: 1.2em;}#sk-container-id-1 div.sk-label-container {text-align: center;}#sk-container-id-1 div.sk-container {/* jupyter's `normalize.less` sets `[hidden] { display: none; }` but bootstrap.min.css set `[hidden] { display: none !important; }` so we also need the `!important` here to be able to override the default hidden behavior on the sphinx rendered scikit-learn.org. See: https://github.com/scikit-learn/scikit-learn/issues/21755 */display: inline-block !important;position: relative;}#sk-container-id-1 div.sk-text-repr-fallback {display: none;}</style><div id=\"sk-container-id-1\" class=\"sk-top-container\"><div class=\"sk-text-repr-fallback\"><pre>XGBClassifier(base_score=None, booster=None, callbacks=None,\n",
       "              colsample_bylevel=None, colsample_bynode=None,\n",
       "              colsample_bytree=None, device=None, early_stopping_rounds=None,\n",
       "              enable_categorical=False, eval_metric=&#x27;mlogloss&#x27;,\n",
       "              feature_types=None, gamma=None, grow_policy=None,\n",
       "              importance_type=None, interaction_constraints=None,\n",
       "              learning_rate=None, max_bin=None, max_cat_threshold=None,\n",
       "              max_cat_to_onehot=None, max_delta_step=None, max_depth=None,\n",
       "              max_leaves=None, min_child_weight=None, missing=nan,\n",
       "              monotone_constraints=None, multi_strategy=None, n_estimators=None,\n",
       "              n_jobs=None, num_parallel_tree=None, objective=&#x27;multi:softprob&#x27;, ...)</pre><b>In a Jupyter environment, please rerun this cell to show the HTML representation or trust the notebook. <br />On GitHub, the HTML representation is unable to render, please try loading this page with nbviewer.org.</b></div><div class=\"sk-container\" hidden><div class=\"sk-item\"><div class=\"sk-estimator sk-toggleable\"><input class=\"sk-toggleable__control sk-hidden--visually\" id=\"sk-estimator-id-1\" type=\"checkbox\" checked><label for=\"sk-estimator-id-1\" class=\"sk-toggleable__label sk-toggleable__label-arrow\">XGBClassifier</label><div class=\"sk-toggleable__content\"><pre>XGBClassifier(base_score=None, booster=None, callbacks=None,\n",
       "              colsample_bylevel=None, colsample_bynode=None,\n",
       "              colsample_bytree=None, device=None, early_stopping_rounds=None,\n",
       "              enable_categorical=False, eval_metric=&#x27;mlogloss&#x27;,\n",
       "              feature_types=None, gamma=None, grow_policy=None,\n",
       "              importance_type=None, interaction_constraints=None,\n",
       "              learning_rate=None, max_bin=None, max_cat_threshold=None,\n",
       "              max_cat_to_onehot=None, max_delta_step=None, max_depth=None,\n",
       "              max_leaves=None, min_child_weight=None, missing=nan,\n",
       "              monotone_constraints=None, multi_strategy=None, n_estimators=None,\n",
       "              n_jobs=None, num_parallel_tree=None, objective=&#x27;multi:softprob&#x27;, ...)</pre></div></div></div></div></div>"
      ],
      "text/plain": [
       "XGBClassifier(base_score=None, booster=None, callbacks=None,\n",
       "              colsample_bylevel=None, colsample_bynode=None,\n",
       "              colsample_bytree=None, device=None, early_stopping_rounds=None,\n",
       "              enable_categorical=False, eval_metric='mlogloss',\n",
       "              feature_types=None, gamma=None, grow_policy=None,\n",
       "              importance_type=None, interaction_constraints=None,\n",
       "              learning_rate=None, max_bin=None, max_cat_threshold=None,\n",
       "              max_cat_to_onehot=None, max_delta_step=None, max_depth=None,\n",
       "              max_leaves=None, min_child_weight=None, missing=nan,\n",
       "              monotone_constraints=None, multi_strategy=None, n_estimators=None,\n",
       "              n_jobs=None, num_parallel_tree=None, objective='multi:softprob', ...)"
      ]
     },
     "execution_count": 12,
     "metadata": {},
     "output_type": "execute_result"
    }
   ],
   "source": [
    "# 모델 학습\n",
    "xgb_model = XGBClassifier(use_label_encoder=False, eval_metric='mlogloss', random_state=42)\n",
    "xgb_model.fit(x_train_final, y_train.values.ravel())"
   ]
  },
  {
   "cell_type": "code",
   "execution_count": 13,
   "id": "f559582b",
   "metadata": {
    "_cell_guid": "95f5f508-d1a0-43ce-9929-09b1731509a3",
    "_uuid": "c238e1c5-8509-47e7-9ca6-fb689ae31533",
    "collapsed": false,
    "execution": {
     "iopub.execute_input": "2025-06-04T12:56:06.060732Z",
     "iopub.status.busy": "2025-06-04T12:56:06.059890Z",
     "iopub.status.idle": "2025-06-04T12:56:23.445813Z",
     "shell.execute_reply": "2025-06-04T12:56:23.444633Z"
    },
    "jupyter": {
     "outputs_hidden": false
    },
    "papermill": {
     "duration": 17.395421,
     "end_time": "2025-06-04T12:56:23.448581",
     "exception": false,
     "start_time": "2025-06-04T12:56:06.053160",
     "status": "completed"
    },
    "tags": []
   },
   "outputs": [],
   "source": [
    "# SHAP 계산\n",
    "explainer = shap.TreeExplainer(xgb_model)\n",
    "shap_values = explainer.shap_values(x_train_final)"
   ]
  },
  {
   "cell_type": "code",
   "execution_count": 14,
   "id": "539dfe35",
   "metadata": {
    "_cell_guid": "dba9ecc5-fe9c-4e30-83d5-aaae9c985417",
    "_uuid": "14ed0def-3192-4d2f-b550-1f74ad4b7158",
    "collapsed": false,
    "execution": {
     "iopub.execute_input": "2025-06-04T12:56:23.462078Z",
     "iopub.status.busy": "2025-06-04T12:56:23.461684Z",
     "iopub.status.idle": "2025-06-04T12:56:23.471465Z",
     "shell.execute_reply": "2025-06-04T12:56:23.470464Z"
    },
    "jupyter": {
     "outputs_hidden": false
    },
    "papermill": {
     "duration": 0.018303,
     "end_time": "2025-06-04T12:56:23.473066",
     "exception": false,
     "start_time": "2025-06-04T12:56:23.454763",
     "status": "completed"
    },
    "tags": []
   },
   "outputs": [
    {
     "name": "stdout",
     "output_type": "stream",
     "text": [
      "중요 변수 TOP 15:\n",
      " ['Payment_encoded', 'Outstanding_Debt', 'Interest_Rate', 'Num_Credit_Card', 'Delay_from_due_date', 'High_Delay_Risk', 'delayed_ratio', 'Num_Bank_Accounts', 'Over_Active_Low_Debt', 'Total_EMI_per_month', 'Credit_History_Months', 'balance_to_emi', 'Num_of_Delayed_Payment', 'loan_to_income_ratio', 'Amount_invested_monthly']\n"
     ]
    }
   ],
   "source": [
    "# 중요 변수 정리\n",
    "importances = xgb_model.feature_importances_\n",
    "importance_df = pd.DataFrame({'feature': x_train_final.columns, 'importance': importances})\n",
    "top15 = importance_df.sort_values(by='importance', ascending=False)['feature'].head(15).tolist()\n",
    "\n",
    "print(\"중요 변수 TOP 15:\\n\", top15)"
   ]
  },
  {
   "cell_type": "code",
   "execution_count": 15,
   "id": "e01a2d98",
   "metadata": {
    "execution": {
     "iopub.execute_input": "2025-06-04T12:56:23.486686Z",
     "iopub.status.busy": "2025-06-04T12:56:23.486408Z",
     "iopub.status.idle": "2025-06-04T12:56:23.501016Z",
     "shell.execute_reply": "2025-06-04T12:56:23.500283Z"
    },
    "papermill": {
     "duration": 0.023298,
     "end_time": "2025-06-04T12:56:23.502552",
     "exception": false,
     "start_time": "2025-06-04T12:56:23.479254",
     "status": "completed"
    },
    "tags": []
   },
   "outputs": [],
   "source": [
    "# 데이터 분할\n",
    "X = x_train_final[top15]\n",
    "X_test = x_test_final[top15]\n",
    "y = y_train['Credit_Score']\n",
    "X_tr, X_val, y_tr, y_val = train_test_split(X, y, test_size=0.2, stratify=y, random_state=42)"
   ]
  },
  {
   "cell_type": "code",
   "execution_count": 16,
   "id": "4f40a3a6",
   "metadata": {
    "_cell_guid": "fce01801-a67e-4ee3-9fcf-47891a5ecb2c",
    "_uuid": "0852be45-e8f2-4bff-8364-33a417619b8a",
    "collapsed": false,
    "execution": {
     "iopub.execute_input": "2025-06-04T12:56:23.515690Z",
     "iopub.status.busy": "2025-06-04T12:56:23.515411Z",
     "iopub.status.idle": "2025-06-04T12:56:23.665999Z",
     "shell.execute_reply": "2025-06-04T12:56:23.664884Z"
    },
    "jupyter": {
     "outputs_hidden": false
    },
    "papermill": {
     "duration": 0.158844,
     "end_time": "2025-06-04T12:56:23.667580",
     "exception": false,
     "start_time": "2025-06-04T12:56:23.508736",
     "status": "completed"
    },
    "tags": []
   },
   "outputs": [],
   "source": [
    "# SMOTE 적용\n",
    "smote = SMOTE(random_state=42)\n",
    "X_tr_resampled, y_tr_resampled = smote.fit_resample(X_tr, y_tr)"
   ]
  },
  {
   "cell_type": "code",
   "execution_count": 17,
   "id": "00f0a5dc",
   "metadata": {
    "_cell_guid": "332a1399-4426-474a-a729-8d0852c6c461",
    "_uuid": "3b22014e-3f98-408f-b20c-97c5535bfbbc",
    "collapsed": false,
    "execution": {
     "iopub.execute_input": "2025-06-04T12:56:23.680672Z",
     "iopub.status.busy": "2025-06-04T12:56:23.680027Z",
     "iopub.status.idle": "2025-06-04T12:56:24.867507Z",
     "shell.execute_reply": "2025-06-04T12:56:24.866669Z"
    },
    "jupyter": {
     "outputs_hidden": false
    },
    "papermill": {
     "duration": 1.195669,
     "end_time": "2025-06-04T12:56:24.869024",
     "exception": false,
     "start_time": "2025-06-04T12:56:23.673355",
     "status": "completed"
    },
    "tags": []
   },
   "outputs": [
    {
     "data": {
      "text/html": [
       "<style>#sk-container-id-2 {color: black;}#sk-container-id-2 pre{padding: 0;}#sk-container-id-2 div.sk-toggleable {background-color: white;}#sk-container-id-2 label.sk-toggleable__label {cursor: pointer;display: block;width: 100%;margin-bottom: 0;padding: 0.3em;box-sizing: border-box;text-align: center;}#sk-container-id-2 label.sk-toggleable__label-arrow:before {content: \"▸\";float: left;margin-right: 0.25em;color: #696969;}#sk-container-id-2 label.sk-toggleable__label-arrow:hover:before {color: black;}#sk-container-id-2 div.sk-estimator:hover label.sk-toggleable__label-arrow:before {color: black;}#sk-container-id-2 div.sk-toggleable__content {max-height: 0;max-width: 0;overflow: hidden;text-align: left;background-color: #f0f8ff;}#sk-container-id-2 div.sk-toggleable__content pre {margin: 0.2em;color: black;border-radius: 0.25em;background-color: #f0f8ff;}#sk-container-id-2 input.sk-toggleable__control:checked~div.sk-toggleable__content {max-height: 200px;max-width: 100%;overflow: auto;}#sk-container-id-2 input.sk-toggleable__control:checked~label.sk-toggleable__label-arrow:before {content: \"▾\";}#sk-container-id-2 div.sk-estimator input.sk-toggleable__control:checked~label.sk-toggleable__label {background-color: #d4ebff;}#sk-container-id-2 div.sk-label input.sk-toggleable__control:checked~label.sk-toggleable__label {background-color: #d4ebff;}#sk-container-id-2 input.sk-hidden--visually {border: 0;clip: rect(1px 1px 1px 1px);clip: rect(1px, 1px, 1px, 1px);height: 1px;margin: -1px;overflow: hidden;padding: 0;position: absolute;width: 1px;}#sk-container-id-2 div.sk-estimator {font-family: monospace;background-color: #f0f8ff;border: 1px dotted black;border-radius: 0.25em;box-sizing: border-box;margin-bottom: 0.5em;}#sk-container-id-2 div.sk-estimator:hover {background-color: #d4ebff;}#sk-container-id-2 div.sk-parallel-item::after {content: \"\";width: 100%;border-bottom: 1px solid gray;flex-grow: 1;}#sk-container-id-2 div.sk-label:hover label.sk-toggleable__label {background-color: #d4ebff;}#sk-container-id-2 div.sk-serial::before {content: \"\";position: absolute;border-left: 1px solid gray;box-sizing: border-box;top: 0;bottom: 0;left: 50%;z-index: 0;}#sk-container-id-2 div.sk-serial {display: flex;flex-direction: column;align-items: center;background-color: white;padding-right: 0.2em;padding-left: 0.2em;position: relative;}#sk-container-id-2 div.sk-item {position: relative;z-index: 1;}#sk-container-id-2 div.sk-parallel {display: flex;align-items: stretch;justify-content: center;background-color: white;position: relative;}#sk-container-id-2 div.sk-item::before, #sk-container-id-2 div.sk-parallel-item::before {content: \"\";position: absolute;border-left: 1px solid gray;box-sizing: border-box;top: 0;bottom: 0;left: 50%;z-index: -1;}#sk-container-id-2 div.sk-parallel-item {display: flex;flex-direction: column;z-index: 1;position: relative;background-color: white;}#sk-container-id-2 div.sk-parallel-item:first-child::after {align-self: flex-end;width: 50%;}#sk-container-id-2 div.sk-parallel-item:last-child::after {align-self: flex-start;width: 50%;}#sk-container-id-2 div.sk-parallel-item:only-child::after {width: 0;}#sk-container-id-2 div.sk-dashed-wrapped {border: 1px dashed gray;margin: 0 0.4em 0.5em 0.4em;box-sizing: border-box;padding-bottom: 0.4em;background-color: white;}#sk-container-id-2 div.sk-label label {font-family: monospace;font-weight: bold;display: inline-block;line-height: 1.2em;}#sk-container-id-2 div.sk-label-container {text-align: center;}#sk-container-id-2 div.sk-container {/* jupyter's `normalize.less` sets `[hidden] { display: none; }` but bootstrap.min.css set `[hidden] { display: none !important; }` so we also need the `!important` here to be able to override the default hidden behavior on the sphinx rendered scikit-learn.org. See: https://github.com/scikit-learn/scikit-learn/issues/21755 */display: inline-block !important;position: relative;}#sk-container-id-2 div.sk-text-repr-fallback {display: none;}</style><div id=\"sk-container-id-2\" class=\"sk-top-container\"><div class=\"sk-text-repr-fallback\"><pre>XGBClassifier(base_score=None, booster=None, callbacks=None,\n",
       "              colsample_bylevel=None, colsample_bynode=None,\n",
       "              colsample_bytree=1.0, device=None, early_stopping_rounds=None,\n",
       "              enable_categorical=False, eval_metric=&#x27;mlogloss&#x27;,\n",
       "              feature_types=None, gamma=0.1, grow_policy=None,\n",
       "              importance_type=None, interaction_constraints=None,\n",
       "              learning_rate=0.02, max_bin=None, max_cat_threshold=None,\n",
       "              max_cat_to_onehot=None, max_delta_step=None, max_depth=5,\n",
       "              max_leaves=None, min_child_weight=None, missing=nan,\n",
       "              monotone_constraints=None, multi_strategy=None, n_estimators=200,\n",
       "              n_jobs=None, num_parallel_tree=None, objective=&#x27;multi:softprob&#x27;, ...)</pre><b>In a Jupyter environment, please rerun this cell to show the HTML representation or trust the notebook. <br />On GitHub, the HTML representation is unable to render, please try loading this page with nbviewer.org.</b></div><div class=\"sk-container\" hidden><div class=\"sk-item\"><div class=\"sk-estimator sk-toggleable\"><input class=\"sk-toggleable__control sk-hidden--visually\" id=\"sk-estimator-id-2\" type=\"checkbox\" checked><label for=\"sk-estimator-id-2\" class=\"sk-toggleable__label sk-toggleable__label-arrow\">XGBClassifier</label><div class=\"sk-toggleable__content\"><pre>XGBClassifier(base_score=None, booster=None, callbacks=None,\n",
       "              colsample_bylevel=None, colsample_bynode=None,\n",
       "              colsample_bytree=1.0, device=None, early_stopping_rounds=None,\n",
       "              enable_categorical=False, eval_metric=&#x27;mlogloss&#x27;,\n",
       "              feature_types=None, gamma=0.1, grow_policy=None,\n",
       "              importance_type=None, interaction_constraints=None,\n",
       "              learning_rate=0.02, max_bin=None, max_cat_threshold=None,\n",
       "              max_cat_to_onehot=None, max_delta_step=None, max_depth=5,\n",
       "              max_leaves=None, min_child_weight=None, missing=nan,\n",
       "              monotone_constraints=None, multi_strategy=None, n_estimators=200,\n",
       "              n_jobs=None, num_parallel_tree=None, objective=&#x27;multi:softprob&#x27;, ...)</pre></div></div></div></div></div>"
      ],
      "text/plain": [
       "XGBClassifier(base_score=None, booster=None, callbacks=None,\n",
       "              colsample_bylevel=None, colsample_bynode=None,\n",
       "              colsample_bytree=1.0, device=None, early_stopping_rounds=None,\n",
       "              enable_categorical=False, eval_metric='mlogloss',\n",
       "              feature_types=None, gamma=0.1, grow_policy=None,\n",
       "              importance_type=None, interaction_constraints=None,\n",
       "              learning_rate=0.02, max_bin=None, max_cat_threshold=None,\n",
       "              max_cat_to_onehot=None, max_delta_step=None, max_depth=5,\n",
       "              max_leaves=None, min_child_weight=None, missing=nan,\n",
       "              monotone_constraints=None, multi_strategy=None, n_estimators=200,\n",
       "              n_jobs=None, num_parallel_tree=None, objective='multi:softprob', ...)"
      ]
     },
     "execution_count": 17,
     "metadata": {},
     "output_type": "execute_result"
    }
   ],
   "source": [
    "# 단일 XGBoost 모델 훈련\n",
    "xgb_model = XGBClassifier(\n",
    "    n_estimators=200,\n",
    "    learning_rate=0.02,\n",
    "    max_depth=5,\n",
    "    subsample=0.85,\n",
    "    colsample_bytree=1.0,\n",
    "    gamma=0.1,\n",
    "    reg_alpha=0,\n",
    "    reg_lambda=1.8,\n",
    "    use_label_encoder=False,\n",
    "    eval_metric='mlogloss',\n",
    "    random_state=42,\n",
    "    scale_pos_weight=None\n",
    ")\n",
    "# 1. 클래스 가중치 사전\n",
    "class_weight_dict = {0: 1.5, 1: 1.0, 2: 1.2}\n",
    "\n",
    "# 2. SMOTE 적용 이후의 레이블을 Series로 변환\n",
    "y_tr_resampled_series = pd.Series(y_tr_resampled)\n",
    "\n",
    "# 3. 클래스 가중치 매핑\n",
    "sample_weights_resampled = y_tr_resampled_series.map(class_weight_dict)\n",
    "\n",
    "# 4. XGBoost 모델 학습\n",
    "xgb_model.fit(X_tr_resampled, y_tr_resampled, sample_weight=sample_weights_resampled)"
   ]
  },
  {
   "cell_type": "code",
   "execution_count": 18,
   "id": "08a7024b",
   "metadata": {
    "_cell_guid": "9998049b-cfbc-43fc-81ae-426a0543ac04",
    "_uuid": "b1f691d1-5142-4bb8-a0b9-49e4f356c3d4",
    "collapsed": false,
    "execution": {
     "iopub.execute_input": "2025-06-04T12:56:24.883719Z",
     "iopub.status.busy": "2025-06-04T12:56:24.882974Z",
     "iopub.status.idle": "2025-06-04T12:56:24.916552Z",
     "shell.execute_reply": "2025-06-04T12:56:24.915480Z"
    },
    "jupyter": {
     "outputs_hidden": false
    },
    "papermill": {
     "duration": 0.042011,
     "end_time": "2025-06-04T12:56:24.918097",
     "exception": false,
     "start_time": "2025-06-04T12:56:24.876086",
     "status": "completed"
    },
    "tags": []
   },
   "outputs": [
    {
     "name": "stdout",
     "output_type": "stream",
     "text": [
      "Macro F1: 0.6374572560289905\n",
      "              precision    recall  f1-score   support\n",
      "\n",
      "           0       0.46      0.69      0.56       335\n",
      "           1       0.66      0.70      0.68       534\n",
      "           2       0.76      0.61      0.68       971\n",
      "\n",
      "    accuracy                           0.65      1840\n",
      "   macro avg       0.63      0.67      0.64      1840\n",
      "weighted avg       0.68      0.65      0.66      1840\n",
      "\n"
     ]
    }
   ],
   "source": [
    "val_preds = xgb_model.predict(X_val)\n",
    "print(\"Macro F1:\", f1_score(y_val, val_preds, average='macro'))\n",
    "print(classification_report(y_val, val_preds))"
   ]
  },
  {
   "cell_type": "code",
   "execution_count": 19,
   "id": "f28f3cb5",
   "metadata": {
    "execution": {
     "iopub.execute_input": "2025-06-04T12:56:24.931294Z",
     "iopub.status.busy": "2025-06-04T12:56:24.931011Z",
     "iopub.status.idle": "2025-06-04T12:56:24.974113Z",
     "shell.execute_reply": "2025-06-04T12:56:24.973194Z"
    },
    "papermill": {
     "duration": 0.051284,
     "end_time": "2025-06-04T12:56:24.975543",
     "exception": false,
     "start_time": "2025-06-04T12:56:24.924259",
     "status": "completed"
    },
    "tags": []
   },
   "outputs": [
    {
     "name": "stdout",
     "output_type": "stream",
     "text": [
      "오분류 샘플 수: 644\n",
      "\n",
      "분류 리포트:\n",
      "               precision    recall  f1-score   support\n",
      "\n",
      "           0       0.46      0.69      0.56       335\n",
      "           1       0.66      0.70      0.68       534\n",
      "           2       0.76      0.61      0.68       971\n",
      "\n",
      "    accuracy                           0.65      1840\n",
      "   macro avg       0.63      0.67      0.64      1840\n",
      "weighted avg       0.68      0.65      0.66      1840\n",
      "\n",
      "\n",
      "혼동 행렬:\n",
      " [[232  13  90]\n",
      " [ 66 376  92]\n",
      " [201 182 588]]\n"
     ]
    },
    {
     "data": {
      "text/html": [
       "<div>\n",
       "<style scoped>\n",
       "    .dataframe tbody tr th:only-of-type {\n",
       "        vertical-align: middle;\n",
       "    }\n",
       "\n",
       "    .dataframe tbody tr th {\n",
       "        vertical-align: top;\n",
       "    }\n",
       "\n",
       "    .dataframe thead th {\n",
       "        text-align: right;\n",
       "    }\n",
       "</style>\n",
       "<table border=\"1\" class=\"dataframe\">\n",
       "  <thead>\n",
       "    <tr style=\"text-align: right;\">\n",
       "      <th></th>\n",
       "      <th>Payment_encoded</th>\n",
       "      <th>Outstanding_Debt</th>\n",
       "      <th>Interest_Rate</th>\n",
       "      <th>Num_Credit_Card</th>\n",
       "      <th>Delay_from_due_date</th>\n",
       "      <th>High_Delay_Risk</th>\n",
       "      <th>delayed_ratio</th>\n",
       "      <th>Num_Bank_Accounts</th>\n",
       "      <th>Over_Active_Low_Debt</th>\n",
       "      <th>Total_EMI_per_month</th>\n",
       "      <th>Credit_History_Months</th>\n",
       "      <th>balance_to_emi</th>\n",
       "      <th>Num_of_Delayed_Payment</th>\n",
       "      <th>loan_to_income_ratio</th>\n",
       "      <th>Amount_invested_monthly</th>\n",
       "      <th>True_Label</th>\n",
       "      <th>Predicted_Label</th>\n",
       "    </tr>\n",
       "  </thead>\n",
       "  <tbody>\n",
       "    <tr>\n",
       "      <th>394</th>\n",
       "      <td>1.525652</td>\n",
       "      <td>3856.66</td>\n",
       "      <td>23</td>\n",
       "      <td>6</td>\n",
       "      <td>19</td>\n",
       "      <td>0</td>\n",
       "      <td>0.278689</td>\n",
       "      <td>9</td>\n",
       "      <td>0</td>\n",
       "      <td>75.667627</td>\n",
       "      <td>60</td>\n",
       "      <td>3.315179</td>\n",
       "      <td>17</td>\n",
       "      <td>0.044313</td>\n",
       "      <td>130.821745</td>\n",
       "      <td>2</td>\n",
       "      <td>1</td>\n",
       "    </tr>\n",
       "    <tr>\n",
       "      <th>7602</th>\n",
       "      <td>1.100152</td>\n",
       "      <td>825.25</td>\n",
       "      <td>6</td>\n",
       "      <td>5</td>\n",
       "      <td>6</td>\n",
       "      <td>0</td>\n",
       "      <td>0.033755</td>\n",
       "      <td>8</td>\n",
       "      <td>1</td>\n",
       "      <td>188.833815</td>\n",
       "      <td>236</td>\n",
       "      <td>1.938985</td>\n",
       "      <td>8</td>\n",
       "      <td>0.028719</td>\n",
       "      <td>380.493837</td>\n",
       "      <td>2</td>\n",
       "      <td>0</td>\n",
       "    </tr>\n",
       "    <tr>\n",
       "      <th>6623</th>\n",
       "      <td>1.100152</td>\n",
       "      <td>454.40</td>\n",
       "      <td>3</td>\n",
       "      <td>3</td>\n",
       "      <td>0</td>\n",
       "      <td>0</td>\n",
       "      <td>0.028818</td>\n",
       "      <td>0</td>\n",
       "      <td>0</td>\n",
       "      <td>0.000000</td>\n",
       "      <td>346</td>\n",
       "      <td>777.776835</td>\n",
       "      <td>10</td>\n",
       "      <td>0.000000</td>\n",
       "      <td>71.844177</td>\n",
       "      <td>2</td>\n",
       "      <td>0</td>\n",
       "    </tr>\n",
       "    <tr>\n",
       "      <th>655</th>\n",
       "      <td>1.301382</td>\n",
       "      <td>474.50</td>\n",
       "      <td>6</td>\n",
       "      <td>6</td>\n",
       "      <td>25</td>\n",
       "      <td>0</td>\n",
       "      <td>0.074074</td>\n",
       "      <td>8</td>\n",
       "      <td>1</td>\n",
       "      <td>355.996436</td>\n",
       "      <td>269</td>\n",
       "      <td>2.178668</td>\n",
       "      <td>20</td>\n",
       "      <td>0.032470</td>\n",
       "      <td>305.362073</td>\n",
       "      <td>0</td>\n",
       "      <td>2</td>\n",
       "    </tr>\n",
       "    <tr>\n",
       "      <th>6510</th>\n",
       "      <td>1.100152</td>\n",
       "      <td>613.91</td>\n",
       "      <td>3</td>\n",
       "      <td>6</td>\n",
       "      <td>10</td>\n",
       "      <td>0</td>\n",
       "      <td>0.012245</td>\n",
       "      <td>5</td>\n",
       "      <td>1</td>\n",
       "      <td>108.802625</td>\n",
       "      <td>244</td>\n",
       "      <td>3.489780</td>\n",
       "      <td>3</td>\n",
       "      <td>0.033244</td>\n",
       "      <td>85.194354</td>\n",
       "      <td>2</td>\n",
       "      <td>0</td>\n",
       "    </tr>\n",
       "  </tbody>\n",
       "</table>\n",
       "</div>"
      ],
      "text/plain": [
       "      Payment_encoded  Outstanding_Debt  Interest_Rate  Num_Credit_Card  \\\n",
       "394          1.525652           3856.66             23                6   \n",
       "7602         1.100152            825.25              6                5   \n",
       "6623         1.100152            454.40              3                3   \n",
       "655          1.301382            474.50              6                6   \n",
       "6510         1.100152            613.91              3                6   \n",
       "\n",
       "      Delay_from_due_date  High_Delay_Risk  delayed_ratio  Num_Bank_Accounts  \\\n",
       "394                    19                0       0.278689                  9   \n",
       "7602                    6                0       0.033755                  8   \n",
       "6623                    0                0       0.028818                  0   \n",
       "655                    25                0       0.074074                  8   \n",
       "6510                   10                0       0.012245                  5   \n",
       "\n",
       "      Over_Active_Low_Debt  Total_EMI_per_month  Credit_History_Months  \\\n",
       "394                      0            75.667627                     60   \n",
       "7602                     1           188.833815                    236   \n",
       "6623                     0             0.000000                    346   \n",
       "655                      1           355.996436                    269   \n",
       "6510                     1           108.802625                    244   \n",
       "\n",
       "      balance_to_emi  Num_of_Delayed_Payment  loan_to_income_ratio  \\\n",
       "394         3.315179                      17              0.044313   \n",
       "7602        1.938985                       8              0.028719   \n",
       "6623      777.776835                      10              0.000000   \n",
       "655         2.178668                      20              0.032470   \n",
       "6510        3.489780                       3              0.033244   \n",
       "\n",
       "      Amount_invested_monthly  True_Label  Predicted_Label  \n",
       "394                130.821745           2                1  \n",
       "7602               380.493837           2                0  \n",
       "6623                71.844177           2                0  \n",
       "655                305.362073           0                2  \n",
       "6510                85.194354           2                0  "
      ]
     },
     "execution_count": 19,
     "metadata": {},
     "output_type": "execute_result"
    }
   ],
   "source": [
    "# 오분류 인덱스 추출\n",
    "misclassified_idx = (val_preds != y_val)\n",
    "\n",
    "# 오분류 샘플만 추출\n",
    "misclassified_df = X_val[misclassified_idx].copy()\n",
    "misclassified_df['True_Label'] = y_val[misclassified_idx]\n",
    "misclassified_df['Predicted_Label'] = val_preds[misclassified_idx]\n",
    "\n",
    "# 결과 요약 출력\n",
    "print(\"오분류 샘플 수:\", misclassified_df.shape[0])\n",
    "print(\"\\n분류 리포트:\\n\", classification_report(y_val, val_preds))\n",
    "print(\"\\n혼동 행렬:\\n\", confusion_matrix(y_val, val_preds))\n",
    "\n",
    "# 앞부분 샘플 확인\n",
    "misclassified_df.head()"
   ]
  },
  {
   "cell_type": "code",
   "execution_count": 20,
   "id": "34a68f13",
   "metadata": {
    "_cell_guid": "405f6d36-4288-49e9-b6d0-b1b5e982656b",
    "_uuid": "317d0ef0-ce50-40de-b55c-9e20c0018231",
    "collapsed": false,
    "execution": {
     "iopub.execute_input": "2025-06-04T12:56:24.989883Z",
     "iopub.status.busy": "2025-06-04T12:56:24.989514Z",
     "iopub.status.idle": "2025-06-04T12:56:25.018583Z",
     "shell.execute_reply": "2025-06-04T12:56:25.017783Z"
    },
    "jupyter": {
     "outputs_hidden": false
    },
    "papermill": {
     "duration": 0.038357,
     "end_time": "2025-06-04T12:56:25.020532",
     "exception": false,
     "start_time": "2025-06-04T12:56:24.982175",
     "status": "completed"
    },
    "tags": []
   },
   "outputs": [],
   "source": [
    "# 학습에 사용한 Feature Column 목록\n",
    "selected_features = X.columns.tolist()\n",
    "\n",
    "# 예측용 데이터에서도 동일하게 맞춰서 정렬\n",
    "x_test_selected = x_test_final[selected_features]\n",
    "\n",
    "# 예측 수행\n",
    "pred_test = xgb_model.predict(x_test_selected)"
   ]
  },
  {
   "cell_type": "code",
   "execution_count": 21,
   "id": "2b245e57",
   "metadata": {
    "_cell_guid": "51c0b538-ebd8-44d7-a189-3f48e760068f",
    "_uuid": "a97b1651-9836-4a1f-9d5a-7adb92e0e4c4",
    "collapsed": false,
    "execution": {
     "iopub.execute_input": "2025-06-04T12:56:25.035264Z",
     "iopub.status.busy": "2025-06-04T12:56:25.034945Z",
     "iopub.status.idle": "2025-06-04T12:56:25.053976Z",
     "shell.execute_reply": "2025-06-04T12:56:25.053156Z"
    },
    "jupyter": {
     "outputs_hidden": false
    },
    "papermill": {
     "duration": 0.028282,
     "end_time": "2025-06-04T12:56:25.055545",
     "exception": false,
     "start_time": "2025-06-04T12:56:25.027263",
     "status": "completed"
    },
    "tags": []
   },
   "outputs": [],
   "source": [
    "# 제출 파일 생성\n",
    "submission = pd.read_csv('/kaggle/input/uou-ie-g-03874-spring-2025-term-project/ML_sample_submission.csv')\n",
    "submission['Credit_Score'] = pred_test\n",
    "submission.to_csv('submission.csv', index=False)"
   ]
  }
 ],
 "metadata": {
  "kaggle": {
   "accelerator": "none",
   "dataSources": [
    {
     "databundleVersionId": 12220852,
     "sourceId": 101385,
     "sourceType": "competition"
    }
   ],
   "isGpuEnabled": false,
   "isInternetEnabled": true,
   "language": "python",
   "sourceType": "notebook"
  },
  "kernelspec": {
   "display_name": "Python 3",
   "language": "python",
   "name": "python3"
  },
  "language_info": {
   "codemirror_mode": {
    "name": "ipython",
    "version": 3
   },
   "file_extension": ".py",
   "mimetype": "text/x-python",
   "name": "python",
   "nbconvert_exporter": "python",
   "pygments_lexer": "ipython3",
   "version": "3.11.11"
  },
  "papermill": {
   "default_parameters": {},
   "duration": 58.227008,
   "end_time": "2025-06-04T12:56:28.258199",
   "environment_variables": {},
   "exception": null,
   "input_path": "__notebook__.ipynb",
   "output_path": "__notebook__.ipynb",
   "parameters": {},
   "start_time": "2025-06-04T12:55:30.031191",
   "version": "2.6.0"
  }
 },
 "nbformat": 4,
 "nbformat_minor": 5
}
